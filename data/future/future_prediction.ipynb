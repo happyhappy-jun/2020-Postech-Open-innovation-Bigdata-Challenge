{
 "cells": [
  {
   "cell_type": "code",
   "execution_count": 6,
   "metadata": {
    "collapsed": true,
    "pycharm": {
     "is_executing": false
    }
   },
   "outputs": [],
   "source": [
    "import pandas as pd\n",
    "import numpy as np\n",
    "import glob\n",
    "from sklearn.preprocessing import MinMaxScaler\n",
    "from  sklearn.metrics import mean_squared_error"
   ]
  },
  {
   "cell_type": "code",
   "execution_count": 7,
   "outputs": [],
   "source": [
    "\n",
    "target_df = pd.DataFrame()\n",
    "temp = [23, 22+1/3,22+2/3,22, 22,22,22, 22+2/3,22+4/3,24, 24+2/3,24+4/3,26,27,28,27, \n",
    "        26+2/3,26+1/3,26,25,24,23,23,23]\n",
    "\n",
    "#https://www.weather.go.kr/weather/forecast/timeseries.jsp\n",
    "\n",
    "wind_degree = np.repeat([90,90,90,90,90,90,90,90], 3)\n",
    "wind_speed = np.repeat([4,4,4,7,7,7,7,4], 3)\n",
    "precipitation = np.repeat([0], 24)\n",
    "humidity = np.repeat([95,95,100,90,80,75, 80, 95], 3)"
   ],
   "metadata": {
    "collapsed": false,
    "pycharm": {
     "name": "#%%\n",
     "is_executing": false
    }
   }
  },
  {
   "cell_type": "code",
   "execution_count": 8,
   "outputs": [],
   "source": [
    "target_df[\"temperature\"] = temp\n",
    "target_df[\"precipitation\"] = precipitation\n",
    "target_df[\"wind_degree\"] = wind_degree\n",
    "target_df[\"wind_speed\"] = wind_speed\n",
    "target_df[\"humidity\"] = humidity"
   ],
   "metadata": {
    "collapsed": false,
    "pycharm": {
     "name": "#%%\n",
     "is_executing": false
    }
   }
  },
  {
   "cell_type": "code",
   "execution_count": 9,
   "outputs": [],
   "source": [
    "scaler = MinMaxScaler().fit(target_df)\n"
   ],
   "metadata": {
    "collapsed": false,
    "pycharm": {
     "name": "#%%\n",
     "is_executing": false
    }
   }
  },
  {
   "cell_type": "code",
   "execution_count": 12,
   "outputs": [],
   "source": [
    "dfs = []\n",
    "for filename in glob.glob(\"*_HR_*.csv\"):\n",
    "    dfs.append(pd.read_csv(filename, encoding=\"euc-kr\")[['일시','기온(°C)', '강수량(mm)', '풍향(16방위)','풍속(m/s)', '습도(%)']])"
   ],
   "metadata": {
    "collapsed": false,
    "pycharm": {
     "name": "#%%\n",
     "is_executing": false
    }
   }
  },
  {
   "cell_type": "code",
   "execution_count": 13,
   "outputs": [],
   "source": [
    "for i in range(4):\n",
    "    dfs[i] =dfs[i].fillna(0)\n",
    "    dfs[i] = dfs[i].rename(columns={'일시':'datetime','기온(°C)':\"temperature\", '강수량(mm)':\"precipitation\",\n",
    "                           '풍향(16방위)':\"wind_degree\",'풍속(m/s)':\"wind_speed\", '습도(%)':\"humidity\"})\n",
    "    dfs[i] = dfs[i].set_index(\"datetime\")\n",
    "\n"
   ],
   "metadata": {
    "collapsed": false,
    "pycharm": {
     "name": "#%%\n",
     "is_executing": false
    }
   }
  },
  {
   "cell_type": "code",
   "execution_count": 14,
   "outputs": [
    {
     "name": "stdout",
     "text": [
      "2086.206365462963 17 3\n"
     ],
     "output_type": "stream"
    }
   ],
   "source": [
    "min_error = 9999\n",
    "min_year = 0\n",
    "min_date = 0\n",
    "idx =0\n",
    "for y in [19, 18, 16, 17]:\n",
    "    for date in range(1, 9):\n",
    "        temp = scaler.transform(dfs[idx][f\"20{y}-08-0{date} 00:00\":f\"20{y}-08-0{date} 23:00\"])\n",
    "        if min_error > (mean_squared_error(temp, target_df.values)):\n",
    "            min_error = mean_squared_error(temp, target_df.values)\n",
    "            min_year = y\n",
    "            min_date = date\n",
    "    idx+=1\n",
    "print(min_error, min_year, min_date)\n"
   ],
   "metadata": {
    "collapsed": false,
    "pycharm": {
     "name": "#%%\n",
     "is_executing": false
    }
   }
  },
  {
   "cell_type": "code",
   "execution_count": 15,
   "outputs": [
    {
     "name": "stdout",
     "text": [
      "2180.961208518519 19 30\n"
     ],
     "output_type": "stream"
    }
   ],
   "source": [
    "min_error = 9999\n",
    "min_year = 0\n",
    "min_date = 0\n",
    "idx =0\n",
    "for y in [19, 18, 16, 17]:\n",
    "    for date in range(24,32):\n",
    "        temp = scaler.transform(dfs[idx][f\"20{y}-07-{date} 00:00\":f\"20{y}-07-{date} 23:00\"])\n",
    "        if min_error > (mean_squared_error(temp, target_df.values)):\n",
    "            min_error = mean_squared_error(temp, target_df.values)\n",
    "            min_year = y\n",
    "            min_date = date\n",
    "    idx+=1\n",
    "print(min_error, min_year, min_date)\n",
    "        "
   ],
   "metadata": {
    "collapsed": false,
    "pycharm": {
     "name": "#%%\n",
     "is_executing": false
    }
   }
  },
  {
   "cell_type": "code",
   "execution_count": 29,
   "outputs": [],
   "source": [
    "#2017 8 3\n",
    "y = 17\n",
    "date =3 \n",
    "idx = 3\n",
    "base = pd.read_csv(\"SURFACE_ASOS_131_MI_2017-08_2017-08_2017.csv\", encoding='euc-kr').fillna(0)\n",
    "base.columns\n",
    "\n",
    "base = base[['일시', '기온(°C)','풍속(m/s)', '습도(%)','일사(MJ/m^2)','일조(Sec)']]\n",
    "base = base.rename(columns={'일시':'datetime', '기온(°C)':\"temperature\",'풍속(m/s)':\"wind_speed\", '습도(%)':\"humidity\", \n",
    "                            \"일조(Sec)\":\"solar_radiation\",'일사(MJ/m^2)':\"solar_intensity\"  \n",
    "})\n",
    "base.datetime = pd.to_datetime(base.datetime, infer_datetime_format=True)\n",
    "base[\"difference\"] = base[\"datetime\"].sub(pd.to_datetime(\"2017-01-01\", infer_datetime_format=True), axis=0)/ np.timedelta64(1, 'D')\n",
    "\n",
    "base = base.set_index('datetime')\n",
    "base = base[f\"20{y}-08-0{date} 00:00\":f\"20{y}-08-0{date} 23:59\"]\n",
    "\n",
    "\n"
   ],
   "metadata": {
    "collapsed": false,
    "pycharm": {
     "name": "#%%\n",
     "is_executing": false
    }
   }
  },
  {
   "cell_type": "code",
   "execution_count": 31,
   "outputs": [],
   "source": [
    "out = pd.DataFrame()\n",
    "period_min = 15\n",
    "out[\"result\"] = 0\n",
    "out[\"temperature\"] = base[\"temperature\"].resample(f'{str(period_min)}T').mean()\n",
    "out[\"wind_speed\"] = base[\"wind_speed\"] .resample(f'{str(period_min)}T').mean()\n",
    "out[\"humidity\"]= base[\"humidity\"].resample(f'{str(period_min)}T').mean()\n",
    "out[\"solar_intensity\"] = base[\"solar_intensity\"].resample(f'{str(period_min)}T').mean().diff()\n",
    "out[\"solar_radiation\"] = base[\"solar_radiation\"].resample(f'{str(period_min)}T').mean().diff()\n",
    "out[\"date\"] = 31\n",
    "out[\"month\"] = 7\n",
    "out[\"hour\"] = pd.DatetimeIndex(out.index).hour\n",
    "out[\"difference\"] = base[\"difference\"]\n",
    "out.loc[out[\"solar_intensity\"] < 0 , \"solar_intensity\"] = 0\n",
    "out.loc[out[\"solar_radiation\"] < 0 , \"solar_radiation\"] = 0\n",
    "out = out.fillna(0)"
   ],
   "metadata": {
    "collapsed": false,
    "pycharm": {
     "name": "#%%\n",
     "is_executing": false
    }
   }
  }
 ],
 "metadata": {
  "kernelspec": {
   "display_name": "Python 3",
   "language": "python",
   "name": "python3"
  },
  "language_info": {
   "codemirror_mode": {
    "name": "ipython",
    "version": 2
   },
   "file_extension": ".py",
   "mimetype": "text/x-python",
   "name": "python",
   "nbconvert_exporter": "python",
   "pygments_lexer": "ipython2",
   "version": "2.7.6"
  },
  "pycharm": {
   "stem_cell": {
    "cell_type": "raw",
    "source": [],
    "metadata": {
     "collapsed": false
    }
   }
  }
 },
 "nbformat": 4,
 "nbformat_minor": 0
}