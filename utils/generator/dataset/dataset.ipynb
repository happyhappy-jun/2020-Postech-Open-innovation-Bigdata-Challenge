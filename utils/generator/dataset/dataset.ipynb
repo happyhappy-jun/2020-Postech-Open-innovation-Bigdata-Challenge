{
 "cells": [
  {
   "cell_type": "code",
   "execution_count": 1,
   "metadata": {
    "collapsed": true,
    "pycharm": {
     "is_executing": false
    }
   },
   "outputs": [
    {
     "name": "stdout",
     "text": [
      "src/weather/SURFACE_ASOS_131_MI_2020-01_2020-01_2020.csv\n",
      "                     temperature  percipitation  wind_degree  wind_speed  \\\n",
      "일시                                                                         \n",
      "2020-01-01 00:00:00    -6.540000            NaN   208.973333    0.926667   \n",
      "2020-01-01 00:15:00    -6.613333            0.0   204.833333    1.146667   \n",
      "2020-01-01 00:30:00    -6.500000            0.0   222.320000    0.833333   \n",
      "2020-01-01 00:45:00    -6.593333            0.0   209.500000    1.360000   \n",
      "2020-01-01 01:00:00    -6.540000            0.0   183.720000    1.046667   \n",
      "\n",
      "                     air_pressure  sea_level_pressure   humidity  \\\n",
      "일시                                                                 \n",
      "2020-01-01 00:00:00   1027.766667         1035.266667  65.980000   \n",
      "2020-01-01 00:15:00   1027.560000         1035.060000  65.733333   \n",
      "2020-01-01 00:30:00   1027.400000         1034.900000  65.266667   \n",
      "2020-01-01 00:45:00   1027.340000         1034.840000  64.413333   \n",
      "2020-01-01 01:00:00   1027.186667         1034.686667  64.580000   \n",
      "\n",
      "                     solar_radiation  solar_intensity  \n",
      "일시                                                     \n",
      "2020-01-01 00:00:00              NaN              NaN  \n",
      "2020-01-01 00:15:00              0.0              0.0  \n",
      "2020-01-01 00:30:00              0.0              0.0  \n",
      "2020-01-01 00:45:00              0.0              0.0  \n",
      "2020-01-01 01:00:00              0.0              0.0  \n",
      "src/weather/SURFACE_ASOS_131_MI_2020-03_2020-03_2020.csv\n",
      "                     temperature  percipitation  wind_degree  wind_speed  \\\n",
      "일시                                                                         \n",
      "2020-03-01 00:00:00     6.100000            NaN    44.813333    0.746667   \n",
      "2020-03-01 00:15:00     5.806667            0.0    33.240000    0.466667   \n",
      "2020-03-01 00:30:00     5.573333            0.0    42.866667    0.506667   \n",
      "2020-03-01 00:45:00     5.533333            0.0    83.326667    0.333333   \n",
      "2020-03-01 01:00:00     5.560000            0.0   281.806667    0.553333   \n",
      "\n",
      "                     air_pressure  sea_level_pressure   humidity  \\\n",
      "일시                                                                 \n",
      "2020-03-01 00:00:00   1011.500000         1018.600000  77.066667   \n",
      "2020-03-01 00:15:00   1011.440000         1018.540000  78.160000   \n",
      "2020-03-01 00:30:00   1011.400000         1018.500000  79.420000   \n",
      "2020-03-01 00:45:00   1011.533333         1018.633333  79.060000   \n",
      "2020-03-01 01:00:00   1011.653333         1018.753333  80.353333   \n",
      "\n",
      "                     solar_radiation  solar_intensity  \n",
      "일시                                                     \n",
      "2020-03-01 00:00:00              NaN              NaN  \n",
      "2020-03-01 00:15:00              0.0              0.0  \n",
      "2020-03-01 00:30:00              0.0              0.0  \n",
      "2020-03-01 00:45:00              0.0              0.0  \n",
      "2020-03-01 01:00:00              0.0              0.0  \n",
      "src/weather/SURFACE_ASOS_131_MI_2019-09_2019-09_2019.csv\n",
      "                     temperature  percipitation  wind_degree  wind_speed  \\\n",
      "일시                                                                         \n",
      "2019-09-01 00:00:00    22.406667            NaN   251.546667    0.373333   \n",
      "2019-09-01 00:15:00    22.326667            0.0   170.806667    0.200000   \n",
      "2019-09-01 00:30:00    22.073333            0.0    25.473333    0.133333   \n",
      "2019-09-01 00:45:00    21.766667            0.0     0.000000    0.000000   \n",
      "2019-09-01 01:00:00    21.700000            0.0     0.000000    0.000000   \n",
      "\n",
      "                     air_pressure  sea_level_pressure   humidity  \\\n",
      "일시                                                                 \n",
      "2019-09-01 00:00:00   1009.520000         1016.120000  76.726667   \n",
      "2019-09-01 00:15:00   1009.600000         1016.200000  77.093333   \n",
      "2019-09-01 00:30:00   1009.693333         1016.293333  78.960000   \n",
      "2019-09-01 00:45:00   1009.773333         1016.373333  80.506667   \n",
      "2019-09-01 01:00:00   1009.746667         1016.346667  80.813333   \n",
      "\n",
      "                     solar_radiation  solar_intensity  \n",
      "일시                                                     \n",
      "2019-09-01 00:00:00              NaN              NaN  \n",
      "2019-09-01 00:15:00              0.0              0.0  \n",
      "2019-09-01 00:30:00              0.0              0.0  \n",
      "2019-09-01 00:45:00              0.0              0.0  \n",
      "2019-09-01 01:00:00              0.0              0.0  \n",
      "src/weather/SURFACE_ASOS_131_MI_2019-11_2019-11_2019.csv\n",
      "                     temperature  percipitation  wind_degree  wind_speed  \\\n",
      "일시                                                                         \n",
      "2019-11-01 00:00:00    14.100000            NaN    84.720000    0.460000   \n",
      "2019-11-01 00:15:00    14.307143            0.0   181.057143    0.642857   \n",
      "2019-11-01 00:30:00    14.460000            0.0    45.880000    0.026667   \n",
      "2019-11-01 00:45:00    14.353333            0.0    59.293333    0.186667   \n",
      "2019-11-01 01:00:00    14.340000            0.0   172.913333    0.626667   \n",
      "\n",
      "                     air_pressure  sea_level_pressure   humidity  \\\n",
      "일시                                                                 \n",
      "2019-11-01 00:00:00   1014.380000         1021.180000  81.220000   \n",
      "2019-11-01 00:15:00   1014.521429         1021.321429  80.978571   \n",
      "2019-11-01 00:30:00   1014.700000         1021.500000  80.686667   \n",
      "2019-11-01 00:45:00   1014.700000         1021.500000  80.973333   \n",
      "2019-11-01 01:00:00   1014.600000         1021.400000  81.113333   \n",
      "\n",
      "                     solar_radiation  solar_intensity  \n",
      "일시                                                     \n",
      "2019-11-01 00:00:00              NaN              NaN  \n",
      "2019-11-01 00:15:00              0.0              0.0  \n",
      "2019-11-01 00:30:00              0.0              0.0  \n",
      "2019-11-01 00:45:00              0.0              0.0  \n",
      "2019-11-01 01:00:00              0.0              0.0  \n",
      "src/weather/SURFACE_ASOS_131_MI_2019-12_2019-12_2020.csv\n",
      "                     temperature  percipitation  wind_degree  wind_speed  \\\n",
      "일시                                                                         \n",
      "2019-12-01 00:00:00     6.946667            NaN     0.000000         0.0   \n",
      "2019-12-01 00:15:00     6.686667            0.0     0.000000         0.0   \n",
      "2019-12-01 00:30:00     6.600000            0.0     0.000000         0.0   \n",
      "2019-12-01 00:45:00     6.713333            0.0     0.000000         0.0   \n",
      "2019-12-01 01:00:00     6.753333            0.0    18.853333         0.0   \n",
      "\n",
      "                     air_pressure  sea_level_pressure   humidity  \\\n",
      "일시                                                                 \n",
      "2019-12-01 00:00:00   1019.693333         1026.793333  53.473333   \n",
      "2019-12-01 00:15:00   1019.686667         1026.786667  54.553333   \n",
      "2019-12-01 00:30:00   1019.506667         1026.606667  54.653333   \n",
      "2019-12-01 00:45:00   1019.420000         1026.520000  54.446667   \n",
      "2019-12-01 01:00:00   1019.480000         1026.580000  53.933333   \n",
      "\n",
      "                     solar_radiation  solar_intensity  \n",
      "일시                                                     \n",
      "2019-12-01 00:00:00              NaN              NaN  \n",
      "2019-12-01 00:15:00              0.0              0.0  \n",
      "2019-12-01 00:30:00              0.0              0.0  \n",
      "2019-12-01 00:45:00              0.0              0.0  \n",
      "2019-12-01 01:00:00              0.0              0.0  \n",
      "src/weather/SURFACE_ASOS_131_MI_2019-10_2019-10_2019.csv\n",
      "                     temperature  percipitation  wind_degree  wind_speed  \\\n",
      "일시                                                                         \n",
      "2019-10-01 00:00:00    22.086667            NaN          0.0    0.000000   \n",
      "2019-10-01 00:15:00    21.813333            0.0          0.0    0.000000   \n",
      "2019-10-01 00:30:00    21.533333            0.0          0.0    0.000000   \n",
      "2019-10-01 00:45:00    21.213333            0.0        169.1    0.233333   \n",
      "2019-10-01 01:00:00    20.906667            0.0        233.0    0.300000   \n",
      "\n",
      "                     air_pressure  sea_level_pressure   humidity  \\\n",
      "일시                                                                 \n",
      "2019-10-01 00:00:00   1011.000000         1017.600000  69.193333   \n",
      "2019-10-01 00:15:00   1010.960000         1017.560000  70.753333   \n",
      "2019-10-01 00:30:00   1010.926667         1017.526667  71.626667   \n",
      "2019-10-01 00:45:00   1011.040000         1017.700000  73.186667   \n",
      "2019-10-01 01:00:00   1011.006667         1017.706667  75.026667   \n",
      "\n",
      "                     solar_radiation  solar_intensity  \n",
      "일시                                                     \n",
      "2019-10-01 00:00:00              NaN              NaN  \n",
      "2019-10-01 00:15:00              0.0              0.0  \n",
      "2019-10-01 00:30:00              0.0              0.0  \n",
      "2019-10-01 00:45:00              0.0              0.0  \n",
      "2019-10-01 01:00:00              0.0              0.0  \n",
      "src/weather/SURFACE_ASOS_131_MI_2019-08_2019-08_2019.csv\n",
      "                     temperature  percipitation  wind_degree  wind_speed  \\\n",
      "일시                                                                         \n",
      "2019-08-01 00:00:00    27.813333            NaN   188.720000    1.380000   \n",
      "2019-08-01 00:15:00    27.813333            0.0   198.740000    1.133333   \n",
      "2019-08-01 00:30:00    27.840000            0.0   202.520000    1.373333   \n",
      "2019-08-01 00:45:00    27.773333            0.0   173.053333    0.506667   \n",
      "2019-08-01 01:00:00    27.700000            0.0   224.940000    0.773333   \n",
      "\n",
      "                     air_pressure  sea_level_pressure   humidity  \\\n",
      "일시                                                                 \n",
      "2019-08-01 00:00:00   1004.700000         1011.100000  77.846667   \n",
      "2019-08-01 00:15:00   1004.780000         1011.180000  77.806667   \n",
      "2019-08-01 00:30:00   1004.900000         1011.300000  77.666667   \n",
      "2019-08-01 00:45:00   1004.866667         1011.293333  77.866667   \n",
      "2019-08-01 01:00:00   1004.800000         1011.300000  78.133333   \n",
      "\n",
      "                     solar_radiation  solar_intensity  \n",
      "일시                                                     \n",
      "2019-08-01 00:00:00              NaN              NaN  \n",
      "2019-08-01 00:15:00              0.0              0.0  \n",
      "2019-08-01 00:30:00              0.0              0.0  \n",
      "2019-08-01 00:45:00              0.0              0.0  \n",
      "2019-08-01 01:00:00              0.0              0.0  \n",
      "src/weather/SURFACE_ASOS_131_MI_2020-02_2020-02_2020.csv\n",
      "                     temperature  percipitation  wind_degree  wind_speed  \\\n",
      "일시                                                                         \n",
      "2020-02-01 00:00:00     1.400000            NaN   252.580000    1.000000   \n",
      "2020-02-01 00:15:00     1.180000            0.0   262.346667    0.766667   \n",
      "2020-02-01 00:30:00     1.166667            0.0   272.166667    0.986667   \n",
      "2020-02-01 00:45:00     1.126667            0.0   261.353333    1.246667   \n",
      "2020-02-01 01:00:00     1.006667            0.0   270.720000    1.433333   \n",
      "\n",
      "                     air_pressure  sea_level_pressure   humidity  \\\n",
      "일시                                                                 \n",
      "2020-02-01 00:00:00       1016.16             1023.36  67.386667   \n",
      "2020-02-01 00:15:00       1016.20             1023.40  68.386667   \n",
      "2020-02-01 00:30:00       1016.20             1023.40  68.626667   \n",
      "2020-02-01 00:45:00       1016.20             1023.40  68.393333   \n",
      "2020-02-01 01:00:00       1016.20             1023.40  69.013333   \n",
      "\n",
      "                     solar_radiation  solar_intensity  \n",
      "일시                                                     \n",
      "2020-02-01 00:00:00              NaN              NaN  \n",
      "2020-02-01 00:15:00              0.0              0.0  \n",
      "2020-02-01 00:30:00              0.0              0.0  \n",
      "2020-02-01 00:45:00              0.0              0.0  \n",
      "2020-02-01 01:00:00              0.0              0.0  \n",
      "src/weather/SURFACE_ASOS_131_MI_2020-06_2020-06_2020.csv\n",
      "                     temperature  percipitation  wind_degree  wind_speed  \\\n",
      "일시                                                                         \n",
      "2020-06-01 00:00:00    20.646667            NaN   294.066667    0.913333   \n",
      "2020-06-01 00:15:00    20.253333       0.000000   272.453333    1.446667   \n",
      "2020-06-01 00:30:00    19.000000       0.000000   279.220000    1.266667   \n",
      "2020-06-01 00:45:00    18.240000       0.000000   261.433333    1.113333   \n",
      "2020-06-01 01:00:00    17.906667       0.046667   258.500000    1.106667   \n",
      "\n",
      "                     air_pressure  sea_level_pressure   humidity  \\\n",
      "일시                                                                 \n",
      "2020-06-01 00:00:00   1003.960000         1010.560000  66.193333   \n",
      "2020-06-01 00:15:00   1004.066667         1010.673333  68.060000   \n",
      "2020-06-01 00:30:00   1004.060000         1010.660000  78.053333   \n",
      "2020-06-01 00:45:00   1004.000000         1010.680000  84.466667   \n",
      "2020-06-01 01:00:00   1004.000000         1010.700000  87.706667   \n",
      "\n",
      "                     solar_radiation  solar_intensity  \n",
      "일시                                                     \n",
      "2020-06-01 00:00:00              NaN              NaN  \n",
      "2020-06-01 00:15:00              0.0              0.0  \n",
      "2020-06-01 00:30:00              0.0              0.0  \n",
      "2020-06-01 00:45:00              0.0              0.0  \n",
      "2020-06-01 01:00:00              0.0              0.0  \n",
      "src/weather/SURFACE_ASOS_131_MI_2019-07_2019-07_2019.csv\n",
      "                     temperature  percipitation  wind_degree  wind_speed  \\\n",
      "일시                                                                         \n",
      "2019-07-01 00:00:00    23.273333            NaN   216.073333    1.193333   \n",
      "2019-07-01 00:15:00    23.200000            0.0   225.486667    1.306667   \n",
      "2019-07-01 00:30:00    23.200000            0.0   223.140000    0.646667   \n",
      "2019-07-01 00:45:00    23.200000            0.0   252.066667    1.053333   \n",
      "2019-07-01 01:00:00    23.200000            0.0   230.933333    0.973333   \n",
      "\n",
      "                     air_pressure  sea_level_pressure   humidity  \\\n",
      "일시                                                                 \n",
      "2019-07-01 00:00:00    997.380000         1003.880000  84.453333   \n",
      "2019-07-01 00:15:00    997.266667         1003.766667  84.853333   \n",
      "2019-07-01 00:30:00    997.200000         1003.700000  85.280000   \n",
      "2019-07-01 00:45:00    997.200000         1003.700000  85.560000   \n",
      "2019-07-01 01:00:00    997.133333         1003.633333  85.740000   \n",
      "\n",
      "                     solar_radiation  solar_intensity  \n",
      "일시                                                     \n",
      "2019-07-01 00:00:00              NaN              NaN  \n",
      "2019-07-01 00:15:00              0.0              0.0  \n",
      "2019-07-01 00:30:00              0.0              0.0  \n",
      "2019-07-01 00:45:00              0.0              0.0  \n",
      "2019-07-01 01:00:00              0.0              0.0  \n",
      "src/weather/SURFACE_ASOS_131_MI_2020-04_2020-04_2020.csv\n",
      "                     temperature  percipitation  wind_degree  wind_speed  \\\n",
      "일시                                                                         \n",
      "2020-04-01 00:00:00    11.240000            NaN   269.946667    0.753333   \n",
      "2020-04-01 00:15:00    11.113333            0.0   277.753333    1.160000   \n",
      "2020-04-01 00:30:00    10.880000            0.0   269.133333    0.926667   \n",
      "2020-04-01 00:45:00    10.526667            0.0   267.680000    1.440000   \n",
      "2020-04-01 01:00:00    10.553333            0.0   261.686667    0.866667   \n",
      "\n",
      "                     air_pressure  sea_level_pressure   humidity  \\\n",
      "일시                                                                 \n",
      "2020-04-01 00:00:00   1008.053333         1014.953333  31.400000   \n",
      "2020-04-01 00:15:00   1008.100000         1015.000000  30.980000   \n",
      "2020-04-01 00:30:00   1008.040000         1014.940000  31.300000   \n",
      "2020-04-01 00:45:00   1008.153333         1015.053333  32.866667   \n",
      "2020-04-01 01:00:00   1008.026667         1014.926667  32.753333   \n",
      "\n",
      "                     solar_radiation  solar_intensity  \n",
      "일시                                                     \n",
      "2020-04-01 00:00:00              NaN              NaN  \n",
      "2020-04-01 00:15:00              0.0              0.0  \n",
      "2020-04-01 00:30:00              0.0              0.0  \n",
      "2020-04-01 00:45:00              0.0              0.0  \n",
      "2020-04-01 01:00:00              0.0              0.0  \n",
      "src/weather/SURFACE_ASOS_131_MI_2020-05_2020-05_2020.csv\n",
      "                     temperature  percipitation  wind_degree  wind_speed  \\\n",
      "일시                                                                         \n",
      "2020-05-01 00:00:00    18.200000            NaN   261.620000    1.366667   \n",
      "2020-05-01 00:15:00    18.053333            0.0   255.440000    1.053333   \n",
      "2020-05-01 00:30:00    18.046667            0.0   257.420000    0.746667   \n",
      "2020-05-01 00:45:00    17.906667            0.0   286.300000    0.546667   \n",
      "2020-05-01 01:00:00    17.740000            0.0   205.833333    0.286667   \n",
      "\n",
      "                     air_pressure  sea_level_pressure   humidity  \\\n",
      "일시                                                                 \n",
      "2020-05-01 00:00:00   1007.680000         1014.380000  79.246667   \n",
      "2020-05-01 00:15:00   1007.566667         1014.266667  79.693333   \n",
      "2020-05-01 00:30:00   1007.566667         1014.266667  79.973333   \n",
      "2020-05-01 00:45:00   1007.626667         1014.326667  80.080000   \n",
      "2020-05-01 01:00:00   1007.553333         1014.253333  80.553333   \n",
      "\n",
      "                     solar_radiation  solar_intensity  \n",
      "일시                                                     \n",
      "2020-05-01 00:00:00              NaN              NaN  \n",
      "2020-05-01 00:15:00              0.0              0.0  \n",
      "2020-05-01 00:30:00              0.0              0.0  \n",
      "2020-05-01 00:45:00              0.0              0.0  \n",
      "2020-05-01 01:00:00              0.0              0.0  \n",
      "35137\n",
      "                     temperature  percipitation  wind_degree  wind_speed  \\\n",
      "일시                                                                         \n",
      "2019-12-01 00:00:00     6.946667            NaN     0.000000    0.000000   \n",
      "2019-12-01 00:15:00     6.686667            0.0     0.000000    0.000000   \n",
      "2019-12-01 00:30:00     6.600000            0.0     0.000000    0.000000   \n",
      "2019-12-01 00:45:00     6.713333            0.0     0.000000    0.000000   \n",
      "2019-12-01 01:00:00     6.753333            0.0    18.853333    0.000000   \n",
      "...                          ...            ...          ...         ...   \n",
      "2020-04-30 22:45:00    18.773333            0.0   246.500000    0.793333   \n",
      "2020-04-30 23:00:00    18.646667            0.0   249.753333    0.846667   \n",
      "2020-04-30 23:15:00    18.580000            0.0   256.166667    1.406667   \n",
      "2020-04-30 23:30:00    18.466667            0.0   256.546667    1.420000   \n",
      "2020-04-30 23:45:00    18.253333            0.0   259.966667    1.300000   \n",
      "\n",
      "                     air_pressure  sea_level_pressure   humidity  \\\n",
      "일시                                                                 \n",
      "2019-12-01 00:00:00   1019.693333         1026.793333  53.473333   \n",
      "2019-12-01 00:15:00   1019.686667         1026.786667  54.553333   \n",
      "2019-12-01 00:30:00   1019.506667         1026.606667  54.653333   \n",
      "2019-12-01 00:45:00   1019.420000         1026.520000  54.446667   \n",
      "2019-12-01 01:00:00   1019.480000         1026.580000  53.933333   \n",
      "...                           ...                 ...        ...   \n",
      "2020-04-30 22:45:00   1007.800000         1014.500000  75.993333   \n",
      "2020-04-30 23:00:00   1007.786667         1014.486667  76.860000   \n",
      "2020-04-30 23:15:00   1007.700000         1014.400000  77.393333   \n",
      "2020-04-30 23:30:00   1007.766667         1014.466667  77.953333   \n",
      "2020-04-30 23:45:00   1007.800000         1014.500000  78.653333   \n",
      "\n",
      "                     solar_radiation  solar_intensity  \n",
      "일시                                                     \n",
      "2019-12-01 00:00:00              NaN              NaN  \n",
      "2019-12-01 00:15:00              0.0              0.0  \n",
      "2019-12-01 00:30:00              0.0              0.0  \n",
      "2019-12-01 00:45:00              0.0              0.0  \n",
      "2019-12-01 01:00:00              0.0              0.0  \n",
      "...                              ...              ...  \n",
      "2020-04-30 22:45:00              0.0              0.0  \n",
      "2020-04-30 23:00:00              0.0              0.0  \n",
      "2020-04-30 23:15:00              0.0              0.0  \n",
      "2020-04-30 23:30:00              0.0              0.0  \n",
      "2020-04-30 23:45:00              0.0              0.0  \n",
      "\n",
      "[35137 rows x 9 columns]\n"
     ],
     "output_type": "stream"
    }
   ],
   "source": [
    "\n",
    "# -*- coding:utf-8 -*-\n",
    "import pandas as pd\n",
    "import sys\n",
    "import glob\n",
    "import os\n",
    "\n",
    "problem = pd.read_csv(\"src/SolarPV_Elec_Problem.csv\", index_col=0, parse_dates=True)\n",
    "weather = pd.read_csv(\"src/AVG_weather_15min.csv\", index_col=1, parse_dates=True)\n",
    "\n",
    "\n",
    "\n",
    "def get_average_table(weather_frame: pd.DataFrame, period_min: int):\n",
    "    # 풍향(deg),풍속(m/s),현지기압(hPa),해면기압(hPa),습도(%),일사(MJ/m^2),일조(Sec)\n",
    "    # location, datetime, temperature, percipitation, wind_degree, wind_speed, air_pressure, sea_level_pressure, humidity, solar_radiation, solr_intensity\n",
    "    weather_frame.columns = [\"datetime\", \"temperature\", \"percipitation\", \"wind_degree\", \"wind_speed\", \"air_pressure\",\n",
    "                             \"sea_level_pressure\", \"humidity\", \"solar_radiation\", \"solar_intensity\"]\n",
    "    temp = pd.DataFrame()\n",
    "    # temp['datetime'] = weather_frame['datetime'].resample(f'{str(period_min)}T')\n",
    "    temp['temperature'] = weather_frame['temperature'].resample(f'{str(period_min)}T').mean()\n",
    "    temp['percipitation'] = weather_frame['percipitation'].resample(f'{str(period_min)}T').mean().diff()\n",
    "    temp['wind_degree'] = weather_frame['wind_degree'].resample(f'{str(period_min)}T').mean()\n",
    "    temp['wind_speed'] = weather_frame['wind_speed'].resample(f'{str(period_min)}T').mean()\n",
    "    temp['air_pressure'] = weather_frame['air_pressure'].resample(f'{str(period_min)}T').mean()\n",
    "    temp['sea_level_pressure'] = weather_frame['sea_level_pressure'].resample(f'{str(period_min)}T').mean()\n",
    "    temp['humidity'] = weather_frame['humidity'].resample(f'{str(period_min)}T').mean()\n",
    "    temp['solar_radiation'] = weather_frame['solar_radiation'].resample(f'{str(period_min)}T').mean().diff()\n",
    "    temp['solar_intensity'] = weather_frame['solar_intensity'].resample(f'{str(period_min)}T').mean().diff()\n",
    "    print(temp.head(5))\n",
    "    return temp\n",
    "\n",
    "\n",
    "def df_to_csv(df: pd.DataFrame, filename: str):\n",
    "    df.to_csv(f'out/{filename}', sep=',', na_rep='NaN')\n",
    "\n",
    "\n",
    "def make_avg_file():\n",
    "    weather_file_list = glob.glob(\"src/weather/*.csv\")\n",
    "    for f in weather_file_list:\n",
    "        print(f)\n",
    "        target = pd.read_csv(f, index_col=1, parse_dates=True)\n",
    "        k = get_average_table(target, 15)\n",
    "        df_to_csv(k, f\"weather_avg_15min/diff_{os.path.basename(f)}\")\n",
    "\n",
    "\n",
    "def concat_csv_vertical(l, index_col: int):\n",
    "    return pd.concat((pd.read_csv(f, index_col=index_col) for f in l))\n",
    "\n",
    "\n",
    "def concat_dataset(a,b):\n",
    "    return pd.concat([a, b], axis=1)\n",
    "\n",
    "\n",
    "make_avg_file()\n",
    "processed_file_list = glob.glob(\"out/weather_avg_15min/diff*.csv\")\n",
    "w = concat_csv_vertical(processed_file_list, 0)\n",
    "w.sort_index(inplace=True)\n",
    "size = len(w.index)\n",
    "print(size)\n",
    "df_to_csv(concat_csv_vertical(processed_file_list, 0), \"dataset1.csv\")\n",
    "print(concat_csv_vertical(processed_file_list, 0))\n",
    "s = pd.concat([problem, w], axis=1)\n",
    "\n",
    "s['date'] = pd.DatetimeIndex(s.index).day\n",
    "s['month'] = pd.DatetimeIndex(s.index).month\n",
    "s['hour'] = pd.DatetimeIndex(s.index).hour"
   ]
  },
  {
   "cell_type": "code",
   "execution_count": 46,
   "outputs": [],
   "source": [
    "s = s.fillna(0)\n",
    "s.head(15)\n",
    "\n",
    "\n",
    "temp = s"
   ],
   "metadata": {
    "collapsed": false,
    "pycharm": {
     "name": "#%%\n",
     "is_executing": false
    }
   }
  },
  {
   "cell_type": "code",
   "execution_count": 47,
   "outputs": [],
   "source": [
    "temp = temp.fillna(0)\n",
    "\n",
    "temp.to_csv('dataset_diff.csv')\n"
   ],
   "metadata": {
    "collapsed": false,
    "pycharm": {
     "name": "#%%\n",
     "is_executing": false
    }
   }
  },
  {
   "cell_type": "code",
   "execution_count": 5,
   "outputs": [
    {
     "data": {
      "text/plain": "                     result  temperature  percipitation  wind_degree  \\\n일시                                                                     \n2019-07-01 00:00:00     0.0    23.273333            0.0   216.073333   \n2019-07-01 00:15:00     0.0    23.200000            0.0   225.486667   \n2019-07-01 00:30:00     0.0    23.200000            0.0   223.140000   \n2019-07-01 00:45:00     0.0    23.200000            0.0   252.066667   \n2019-07-01 01:00:00     0.0    23.200000            0.0   230.933333   \n2019-07-01 01:15:00     0.0    23.140000            0.0   218.113333   \n2019-07-01 01:30:00     0.0    23.133333            0.0   255.533333   \n2019-07-01 01:45:00     0.0    23.133333            0.0   251.833333   \n2019-07-01 02:00:00     0.0    23.100000            0.0   248.373333   \n2019-07-01 02:15:00     0.0    23.100000            0.0   235.200000   \n\n                     wind_speed  air_pressure  sea_level_pressure   humidity  \\\n일시                                                                             \n2019-07-01 00:00:00    1.193333    997.380000         1003.880000  84.453333   \n2019-07-01 00:15:00    1.306667    997.266667         1003.766667  84.853333   \n2019-07-01 00:30:00    0.646667    997.200000         1003.700000  85.280000   \n2019-07-01 00:45:00    1.053333    997.200000         1003.700000  85.560000   \n2019-07-01 01:00:00    0.973333    997.133333         1003.633333  85.740000   \n2019-07-01 01:15:00    0.900000    997.026667         1003.526667  85.893333   \n2019-07-01 01:30:00    1.366667    997.160000         1003.660000  86.080000   \n2019-07-01 01:45:00    0.940000    997.080000         1003.580000  86.186667   \n2019-07-01 02:00:00    1.360000    996.966667         1003.466667  86.146667   \n2019-07-01 02:15:00    1.233333    996.866667         1003.366667  86.266667   \n\n                     solar_radiation  solar_intensity  \n일시                                                     \n2019-07-01 00:00:00              0.0              0.0  \n2019-07-01 00:15:00              0.0              0.0  \n2019-07-01 00:30:00              0.0              0.0  \n2019-07-01 00:45:00              0.0              0.0  \n2019-07-01 01:00:00              0.0              0.0  \n2019-07-01 01:15:00              0.0              0.0  \n2019-07-01 01:30:00              0.0              0.0  \n2019-07-01 01:45:00              0.0              0.0  \n2019-07-01 02:00:00              0.0              0.0  \n2019-07-01 02:15:00              0.0              0.0  ",
      "text/html": "<div>\n<style scoped>\n    .dataframe tbody tr th:only-of-type {\n        vertical-align: middle;\n    }\n\n    .dataframe tbody tr th {\n        vertical-align: top;\n    }\n\n    .dataframe thead th {\n        text-align: right;\n    }\n</style>\n<table border=\"1\" class=\"dataframe\">\n  <thead>\n    <tr style=\"text-align: right;\">\n      <th></th>\n      <th>result</th>\n      <th>temperature</th>\n      <th>percipitation</th>\n      <th>wind_degree</th>\n      <th>wind_speed</th>\n      <th>air_pressure</th>\n      <th>sea_level_pressure</th>\n      <th>humidity</th>\n      <th>solar_radiation</th>\n      <th>solar_intensity</th>\n    </tr>\n    <tr>\n      <th>일시</th>\n      <th></th>\n      <th></th>\n      <th></th>\n      <th></th>\n      <th></th>\n      <th></th>\n      <th></th>\n      <th></th>\n      <th></th>\n      <th></th>\n    </tr>\n  </thead>\n  <tbody>\n    <tr>\n      <th>2019-07-01 00:00:00</th>\n      <td>0.0</td>\n      <td>23.273333</td>\n      <td>0.0</td>\n      <td>216.073333</td>\n      <td>1.193333</td>\n      <td>997.380000</td>\n      <td>1003.880000</td>\n      <td>84.453333</td>\n      <td>0.0</td>\n      <td>0.0</td>\n    </tr>\n    <tr>\n      <th>2019-07-01 00:15:00</th>\n      <td>0.0</td>\n      <td>23.200000</td>\n      <td>0.0</td>\n      <td>225.486667</td>\n      <td>1.306667</td>\n      <td>997.266667</td>\n      <td>1003.766667</td>\n      <td>84.853333</td>\n      <td>0.0</td>\n      <td>0.0</td>\n    </tr>\n    <tr>\n      <th>2019-07-01 00:30:00</th>\n      <td>0.0</td>\n      <td>23.200000</td>\n      <td>0.0</td>\n      <td>223.140000</td>\n      <td>0.646667</td>\n      <td>997.200000</td>\n      <td>1003.700000</td>\n      <td>85.280000</td>\n      <td>0.0</td>\n      <td>0.0</td>\n    </tr>\n    <tr>\n      <th>2019-07-01 00:45:00</th>\n      <td>0.0</td>\n      <td>23.200000</td>\n      <td>0.0</td>\n      <td>252.066667</td>\n      <td>1.053333</td>\n      <td>997.200000</td>\n      <td>1003.700000</td>\n      <td>85.560000</td>\n      <td>0.0</td>\n      <td>0.0</td>\n    </tr>\n    <tr>\n      <th>2019-07-01 01:00:00</th>\n      <td>0.0</td>\n      <td>23.200000</td>\n      <td>0.0</td>\n      <td>230.933333</td>\n      <td>0.973333</td>\n      <td>997.133333</td>\n      <td>1003.633333</td>\n      <td>85.740000</td>\n      <td>0.0</td>\n      <td>0.0</td>\n    </tr>\n    <tr>\n      <th>2019-07-01 01:15:00</th>\n      <td>0.0</td>\n      <td>23.140000</td>\n      <td>0.0</td>\n      <td>218.113333</td>\n      <td>0.900000</td>\n      <td>997.026667</td>\n      <td>1003.526667</td>\n      <td>85.893333</td>\n      <td>0.0</td>\n      <td>0.0</td>\n    </tr>\n    <tr>\n      <th>2019-07-01 01:30:00</th>\n      <td>0.0</td>\n      <td>23.133333</td>\n      <td>0.0</td>\n      <td>255.533333</td>\n      <td>1.366667</td>\n      <td>997.160000</td>\n      <td>1003.660000</td>\n      <td>86.080000</td>\n      <td>0.0</td>\n      <td>0.0</td>\n    </tr>\n    <tr>\n      <th>2019-07-01 01:45:00</th>\n      <td>0.0</td>\n      <td>23.133333</td>\n      <td>0.0</td>\n      <td>251.833333</td>\n      <td>0.940000</td>\n      <td>997.080000</td>\n      <td>1003.580000</td>\n      <td>86.186667</td>\n      <td>0.0</td>\n      <td>0.0</td>\n    </tr>\n    <tr>\n      <th>2019-07-01 02:00:00</th>\n      <td>0.0</td>\n      <td>23.100000</td>\n      <td>0.0</td>\n      <td>248.373333</td>\n      <td>1.360000</td>\n      <td>996.966667</td>\n      <td>1003.466667</td>\n      <td>86.146667</td>\n      <td>0.0</td>\n      <td>0.0</td>\n    </tr>\n    <tr>\n      <th>2019-07-01 02:15:00</th>\n      <td>0.0</td>\n      <td>23.100000</td>\n      <td>0.0</td>\n      <td>235.200000</td>\n      <td>1.233333</td>\n      <td>996.866667</td>\n      <td>1003.366667</td>\n      <td>86.266667</td>\n      <td>0.0</td>\n      <td>0.0</td>\n    </tr>\n  </tbody>\n</table>\n</div>"
     },
     "metadata": {},
     "output_type": "execute_result",
     "execution_count": 5
    }
   ],
   "source": [
    "temp.head(10)"
   ],
   "metadata": {
    "collapsed": false,
    "pycharm": {
     "name": "#%%\n",
     "is_executing": false
    }
   }
  },
  {
   "cell_type": "code",
   "execution_count": 6,
   "outputs": [],
   "source": [
    "import matplotlib.pyplot as plt\n",
    "plt.style.use('classic')\n",
    "%matplotlib inline\n",
    "import numpy as np\n",
    "import pandas as pd\n",
    "import seaborn as sns; sns.set(rc={'figure.figsize':(30,10)})\n"
   ],
   "metadata": {
    "collapsed": false,
    "pycharm": {
     "name": "#%%\n",
     "is_executing": false
    }
   }
  },
  {
   "cell_type": "code",
   "execution_count": 2,
   "outputs": [],
   "source": [
    "avg_df = pd.read_csv(\"dataset_diff.csv\")"
   ],
   "metadata": {
    "collapsed": false,
    "pycharm": {
     "name": "#%%\n",
     "is_executing": false
    }
   }
  },
  {
   "cell_type": "code",
   "execution_count": 16,
   "outputs": [],
   "source": [
    "corr = avg_df.corr()"
   ],
   "metadata": {
    "collapsed": false,
    "pycharm": {
     "name": "#%%\n",
     "is_executing": false
    }
   }
  },
  {
   "cell_type": "code",
   "execution_count": 17,
   "outputs": [
    {
     "data": {
      "text/plain": "<matplotlib.axes._subplots.AxesSubplot at 0x11bdda290>"
     },
     "metadata": {},
     "output_type": "execute_result",
     "execution_count": 17
    },
    {
     "data": {
      "text/plain": "<Figure size 792x648 with 2 Axes>",
      "image/png": "[encoded data removed]"
     },
     "metadata": {},
     "output_type": "display_data"
    }
   ],
   "source": [
    "mask = np.triu(np.ones_like(corr, dtype=np.bool))\n",
    "\n",
    "# Set up the matplotlib figure\n",
    "f, ax = plt.subplots(figsize=(11, 9))\n",
    "\n",
    "# Generate a custom diverging colormap\n",
    "cmap = sns.diverging_palette(220, 10, as_cmap=True)\n",
    "\n",
    "# Draw the heatmap with the mask and correct aspect ratio\n",
    "sns.heatmap(corr, mask=mask, cmap=cmap, vmax=1, vmin=-1, center=0,\n",
    "            square=True, linewidths=.5, cbar_kws={\"shrink\": .5})"
   ],
   "metadata": {
    "collapsed": false,
    "pycharm": {
     "name": "#%%\n",
     "is_executing": false
    }
   }
  },
  {
   "cell_type": "code",
   "execution_count": 7,
   "outputs": [],
   "source": [
    "test = avg_df.solar_intensity.diff()"
   ],
   "metadata": {
    "collapsed": false,
    "pycharm": {
     "name": "#%%\n",
     "is_executing": false
    }
   }
  },
  {
   "cell_type": "code",
   "execution_count": 19,
   "outputs": [
    {
     "traceback": [
      "\u001b[0;31m---------------------------------------------------------------------------\u001b[0m",
      "\u001b[0;31mFileNotFoundError\u001b[0m                         Traceback (most recent call last)",
      "\u001b[0;32m<ipython-input-19-ce248e198db7>\u001b[0m in \u001b[0;36m<module>\u001b[0;34m\u001b[0m\n\u001b[1;32m      1\u001b[0m \u001b[0mperiod_min\u001b[0m \u001b[0;34m=\u001b[0m \u001b[0;36m15\u001b[0m\u001b[0;34m\u001b[0m\u001b[0;34m\u001b[0m\u001b[0m\n\u001b[0;32m----> 2\u001b[0;31m \u001b[0mweather\u001b[0m \u001b[0;34m=\u001b[0m \u001b[0mpd\u001b[0m\u001b[0;34m.\u001b[0m\u001b[0mread_csv\u001b[0m\u001b[0;34m(\u001b[0m\u001b[0;34m\"utils/generator/dataset/src/AVG_weather_15min.csv\"\u001b[0m\u001b[0;34m,\u001b[0m \u001b[0mindex_col\u001b[0m\u001b[0;34m=\u001b[0m\u001b[0;36m1\u001b[0m\u001b[0;34m,\u001b[0m \u001b[0mparse_dates\u001b[0m\u001b[0;34m=\u001b[0m\u001b[0;32mTrue\u001b[0m\u001b[0;34m)\u001b[0m\u001b[0;34m\u001b[0m\u001b[0;34m\u001b[0m\u001b[0m\n\u001b[0m\u001b[1;32m      3\u001b[0m \u001b[0mtest1\u001b[0m \u001b[0;34m=\u001b[0m \u001b[0mweather\u001b[0m\u001b[0;34m[\u001b[0m\u001b[0;34m'일조(Sec)'\u001b[0m\u001b[0;34m]\u001b[0m\u001b[0;34m.\u001b[0m\u001b[0mresample\u001b[0m\u001b[0;34m(\u001b[0m\u001b[0;34mf'{str(period_min)}T'\u001b[0m\u001b[0;34m)\u001b[0m\u001b[0;34m.\u001b[0m\u001b[0mmean\u001b[0m\u001b[0;34m(\u001b[0m\u001b[0;34m)\u001b[0m\u001b[0;34m.\u001b[0m\u001b[0mdiff\u001b[0m\u001b[0;34m(\u001b[0m\u001b[0;34m)\u001b[0m\u001b[0;34m\u001b[0m\u001b[0;34m\u001b[0m\u001b[0m\n\u001b[1;32m      4\u001b[0m \u001b[0;34m\u001b[0m\u001b[0m\n\u001b[1;32m      5\u001b[0m \u001b[0;34m\u001b[0m\u001b[0m\n",
      "\u001b[0;32m/usr/local/lib/python3.7/site-packages/pandas/io/parsers.py\u001b[0m in \u001b[0;36mparser_f\u001b[0;34m(filepath_or_buffer, sep, delimiter, header, names, index_col, usecols, squeeze, prefix, mangle_dupe_cols, dtype, engine, converters, true_values, false_values, skipinitialspace, skiprows, skipfooter, nrows, na_values, keep_default_na, na_filter, verbose, skip_blank_lines, parse_dates, infer_datetime_format, keep_date_col, date_parser, dayfirst, cache_dates, iterator, chunksize, compression, thousands, decimal, lineterminator, quotechar, quoting, doublequote, escapechar, comment, encoding, dialect, error_bad_lines, warn_bad_lines, delim_whitespace, low_memory, memory_map, float_precision)\u001b[0m\n\u001b[1;32m    683\u001b[0m         )\n\u001b[1;32m    684\u001b[0m \u001b[0;34m\u001b[0m\u001b[0m\n\u001b[0;32m--> 685\u001b[0;31m         \u001b[0;32mreturn\u001b[0m \u001b[0m_read\u001b[0m\u001b[0;34m(\u001b[0m\u001b[0mfilepath_or_buffer\u001b[0m\u001b[0;34m,\u001b[0m \u001b[0mkwds\u001b[0m\u001b[0;34m)\u001b[0m\u001b[0;34m\u001b[0m\u001b[0;34m\u001b[0m\u001b[0m\n\u001b[0m\u001b[1;32m    686\u001b[0m \u001b[0;34m\u001b[0m\u001b[0m\n\u001b[1;32m    687\u001b[0m     \u001b[0mparser_f\u001b[0m\u001b[0;34m.\u001b[0m\u001b[0m__name__\u001b[0m \u001b[0;34m=\u001b[0m \u001b[0mname\u001b[0m\u001b[0;34m\u001b[0m\u001b[0;34m\u001b[0m\u001b[0m\n",
      "\u001b[0;32m/usr/local/lib/python3.7/site-packages/pandas/io/parsers.py\u001b[0m in \u001b[0;36m_read\u001b[0;34m(filepath_or_buffer, kwds)\u001b[0m\n\u001b[1;32m    455\u001b[0m \u001b[0;34m\u001b[0m\u001b[0m\n\u001b[1;32m    456\u001b[0m     \u001b[0;31m# Create the parser.\u001b[0m\u001b[0;34m\u001b[0m\u001b[0;34m\u001b[0m\u001b[0;34m\u001b[0m\u001b[0m\n\u001b[0;32m--> 457\u001b[0;31m     \u001b[0mparser\u001b[0m \u001b[0;34m=\u001b[0m \u001b[0mTextFileReader\u001b[0m\u001b[0;34m(\u001b[0m\u001b[0mfp_or_buf\u001b[0m\u001b[0;34m,\u001b[0m \u001b[0;34m**\u001b[0m\u001b[0mkwds\u001b[0m\u001b[0;34m)\u001b[0m\u001b[0;34m\u001b[0m\u001b[0;34m\u001b[0m\u001b[0m\n\u001b[0m\u001b[1;32m    458\u001b[0m \u001b[0;34m\u001b[0m\u001b[0m\n\u001b[1;32m    459\u001b[0m     \u001b[0;32mif\u001b[0m \u001b[0mchunksize\u001b[0m \u001b[0;32mor\u001b[0m \u001b[0miterator\u001b[0m\u001b[0;34m:\u001b[0m\u001b[0;34m\u001b[0m\u001b[0;34m\u001b[0m\u001b[0m\n",
      "\u001b[0;32m/usr/local/lib/python3.7/site-packages/pandas/io/parsers.py\u001b[0m in \u001b[0;36m__init__\u001b[0;34m(self, f, engine, **kwds)\u001b[0m\n\u001b[1;32m    893\u001b[0m             \u001b[0mself\u001b[0m\u001b[0;34m.\u001b[0m\u001b[0moptions\u001b[0m\u001b[0;34m[\u001b[0m\u001b[0;34m\"has_index_names\"\u001b[0m\u001b[0;34m]\u001b[0m \u001b[0;34m=\u001b[0m \u001b[0mkwds\u001b[0m\u001b[0;34m[\u001b[0m\u001b[0;34m\"has_index_names\"\u001b[0m\u001b[0;34m]\u001b[0m\u001b[0;34m\u001b[0m\u001b[0;34m\u001b[0m\u001b[0m\n\u001b[1;32m    894\u001b[0m \u001b[0;34m\u001b[0m\u001b[0m\n\u001b[0;32m--> 895\u001b[0;31m         \u001b[0mself\u001b[0m\u001b[0;34m.\u001b[0m\u001b[0m_make_engine\u001b[0m\u001b[0;34m(\u001b[0m\u001b[0mself\u001b[0m\u001b[0;34m.\u001b[0m\u001b[0mengine\u001b[0m\u001b[0;34m)\u001b[0m\u001b[0;34m\u001b[0m\u001b[0;34m\u001b[0m\u001b[0m\n\u001b[0m\u001b[1;32m    896\u001b[0m \u001b[0;34m\u001b[0m\u001b[0m\n\u001b[1;32m    897\u001b[0m     \u001b[0;32mdef\u001b[0m \u001b[0mclose\u001b[0m\u001b[0;34m(\u001b[0m\u001b[0mself\u001b[0m\u001b[0;34m)\u001b[0m\u001b[0;34m:\u001b[0m\u001b[0;34m\u001b[0m\u001b[0;34m\u001b[0m\u001b[0m\n",
      "\u001b[0;32m/usr/local/lib/python3.7/site-packages/pandas/io/parsers.py\u001b[0m in \u001b[0;36m_make_engine\u001b[0;34m(self, engine)\u001b[0m\n\u001b[1;32m   1133\u001b[0m     \u001b[0;32mdef\u001b[0m \u001b[0m_make_engine\u001b[0m\u001b[0;34m(\u001b[0m\u001b[0mself\u001b[0m\u001b[0;34m,\u001b[0m \u001b[0mengine\u001b[0m\u001b[0;34m=\u001b[0m\u001b[0;34m\"c\"\u001b[0m\u001b[0;34m)\u001b[0m\u001b[0;34m:\u001b[0m\u001b[0;34m\u001b[0m\u001b[0;34m\u001b[0m\u001b[0m\n\u001b[1;32m   1134\u001b[0m         \u001b[0;32mif\u001b[0m \u001b[0mengine\u001b[0m \u001b[0;34m==\u001b[0m \u001b[0;34m\"c\"\u001b[0m\u001b[0;34m:\u001b[0m\u001b[0;34m\u001b[0m\u001b[0;34m\u001b[0m\u001b[0m\n\u001b[0;32m-> 1135\u001b[0;31m             \u001b[0mself\u001b[0m\u001b[0;34m.\u001b[0m\u001b[0m_engine\u001b[0m \u001b[0;34m=\u001b[0m \u001b[0mCParserWrapper\u001b[0m\u001b[0;34m(\u001b[0m\u001b[0mself\u001b[0m\u001b[0;34m.\u001b[0m\u001b[0mf\u001b[0m\u001b[0;34m,\u001b[0m \u001b[0;34m**\u001b[0m\u001b[0mself\u001b[0m\u001b[0;34m.\u001b[0m\u001b[0moptions\u001b[0m\u001b[0;34m)\u001b[0m\u001b[0;34m\u001b[0m\u001b[0;34m\u001b[0m\u001b[0m\n\u001b[0m\u001b[1;32m   1136\u001b[0m         \u001b[0;32melse\u001b[0m\u001b[0;34m:\u001b[0m\u001b[0;34m\u001b[0m\u001b[0;34m\u001b[0m\u001b[0m\n\u001b[1;32m   1137\u001b[0m             \u001b[0;32mif\u001b[0m \u001b[0mengine\u001b[0m \u001b[0;34m==\u001b[0m \u001b[0;34m\"python\"\u001b[0m\u001b[0;34m:\u001b[0m\u001b[0;34m\u001b[0m\u001b[0;34m\u001b[0m\u001b[0m\n",
      "\u001b[0;32m/usr/local/lib/python3.7/site-packages/pandas/io/parsers.py\u001b[0m in \u001b[0;36m__init__\u001b[0;34m(self, src, **kwds)\u001b[0m\n\u001b[1;32m   1915\u001b[0m         \u001b[0mkwds\u001b[0m\u001b[0;34m[\u001b[0m\u001b[0;34m\"usecols\"\u001b[0m\u001b[0;34m]\u001b[0m \u001b[0;34m=\u001b[0m \u001b[0mself\u001b[0m\u001b[0;34m.\u001b[0m\u001b[0musecols\u001b[0m\u001b[0;34m\u001b[0m\u001b[0;34m\u001b[0m\u001b[0m\n\u001b[1;32m   1916\u001b[0m \u001b[0;34m\u001b[0m\u001b[0m\n\u001b[0;32m-> 1917\u001b[0;31m         \u001b[0mself\u001b[0m\u001b[0;34m.\u001b[0m\u001b[0m_reader\u001b[0m \u001b[0;34m=\u001b[0m \u001b[0mparsers\u001b[0m\u001b[0;34m.\u001b[0m\u001b[0mTextReader\u001b[0m\u001b[0;34m(\u001b[0m\u001b[0msrc\u001b[0m\u001b[0;34m,\u001b[0m \u001b[0;34m**\u001b[0m\u001b[0mkwds\u001b[0m\u001b[0;34m)\u001b[0m\u001b[0;34m\u001b[0m\u001b[0;34m\u001b[0m\u001b[0m\n\u001b[0m\u001b[1;32m   1918\u001b[0m         \u001b[0mself\u001b[0m\u001b[0;34m.\u001b[0m\u001b[0munnamed_cols\u001b[0m \u001b[0;34m=\u001b[0m \u001b[0mself\u001b[0m\u001b[0;34m.\u001b[0m\u001b[0m_reader\u001b[0m\u001b[0;34m.\u001b[0m\u001b[0munnamed_cols\u001b[0m\u001b[0;34m\u001b[0m\u001b[0;34m\u001b[0m\u001b[0m\n\u001b[1;32m   1919\u001b[0m \u001b[0;34m\u001b[0m\u001b[0m\n",
      "\u001b[0;32mpandas/_libs/parsers.pyx\u001b[0m in \u001b[0;36mpandas._libs.parsers.TextReader.__cinit__\u001b[0;34m()\u001b[0m\n",
      "\u001b[0;32mpandas/_libs/parsers.pyx\u001b[0m in \u001b[0;36mpandas._libs.parsers.TextReader._setup_parser_source\u001b[0;34m()\u001b[0m\n",
      "\u001b[0;31mFileNotFoundError\u001b[0m: [Errno 2] File b'utils/generator/dataset/src/AVG_weather_15min.csv' does not exist: b'utils/generator/dataset/src/AVG_weather_15min.csv'"
     ],
     "ename": "FileNotFoundError",
     "evalue": "[Errno 2] File b'utils/generator/dataset/src/AVG_weather_15min.csv' does not exist: b'utils/generator/dataset/src/AVG_weather_15min.csv'",
     "output_type": "error"
    }
   ],
   "source": [
    "period_min = 15\n",
    "weather = pd.read_csv(\"utils/generator/dataset/src/AVG_weather_15min.csv\", index_col=1, parse_dates=True)\n",
    "test1 = weather['일조(Sec)'].resample(f'{str(period_min)}T').mean().diff()\n",
    "\n"
   ],
   "metadata": {
    "collapsed": false,
    "pycharm": {
     "name": "#%%\n",
     "is_executing": false
    }
   }
  },
  {
   "cell_type": "code",
   "execution_count": 18,
   "outputs": [
    {
     "data": {
      "text/plain": "result                1.000000\ntemperature           0.247155\npercipitation        -0.054989\nwind_degree           0.193411\nwind_speed            0.403046\nair_pressure          0.089523\nsea_level_pressure    0.089101\nhumidity             -0.394002\nsolar_radiation       0.948446\nsolar_intensity       0.795518\nName: result, dtype: float64"
     },
     "metadata": {},
     "output_type": "execute_result",
     "execution_count": 18
    }
   ],
   "source": [
    "corr['result']\n"
   ],
   "metadata": {
    "collapsed": false,
    "pycharm": {
     "name": "#%%\n",
     "is_executing": false
    }
   }
  },
  {
   "cell_type": "code",
   "execution_count": 48,
   "outputs": [
    {
     "data": {
      "text/plain": "              datetime  result  temperature  percipitation  wind_degree  \\\n0  2019-07-01 00:00:00     0.0    23.273333            0.0   216.073333   \n1  2019-07-01 00:15:00     0.0    23.200000            0.0   225.486667   \n2  2019-07-01 00:30:00     0.0    23.200000            0.0   223.140000   \n3  2019-07-01 00:45:00     0.0    23.200000            0.0   252.066667   \n4  2019-07-01 01:00:00     0.0    23.200000            0.0   230.933333   \n\n   wind_speed  air_pressure  sea_level_pressure   humidity  solar_radiation  \\\n0    1.193333    997.380000         1003.880000  84.453333              0.0   \n1    1.306667    997.266667         1003.766667  84.853333              0.0   \n2    0.646667    997.200000         1003.700000  85.280000              0.0   \n3    1.053333    997.200000         1003.700000  85.560000              0.0   \n4    0.973333    997.133333         1003.633333  85.740000              0.0   \n\n   solar_intensity  date  month  hour  \n0              0.0     1      7     0  \n1              0.0     1      7     0  \n2              0.0     1      7     0  \n3              0.0     1      7     0  \n4              0.0     1      7     1  ",
      "text/html": "<div>\n<style scoped>\n    .dataframe tbody tr th:only-of-type {\n        vertical-align: middle;\n    }\n\n    .dataframe tbody tr th {\n        vertical-align: top;\n    }\n\n    .dataframe thead th {\n        text-align: right;\n    }\n</style>\n<table border=\"1\" class=\"dataframe\">\n  <thead>\n    <tr style=\"text-align: right;\">\n      <th></th>\n      <th>datetime</th>\n      <th>result</th>\n      <th>temperature</th>\n      <th>percipitation</th>\n      <th>wind_degree</th>\n      <th>wind_speed</th>\n      <th>air_pressure</th>\n      <th>sea_level_pressure</th>\n      <th>humidity</th>\n      <th>solar_radiation</th>\n      <th>solar_intensity</th>\n      <th>date</th>\n      <th>month</th>\n      <th>hour</th>\n    </tr>\n  </thead>\n  <tbody>\n    <tr>\n      <th>0</th>\n      <td>2019-07-01 00:00:00</td>\n      <td>0.0</td>\n      <td>23.273333</td>\n      <td>0.0</td>\n      <td>216.073333</td>\n      <td>1.193333</td>\n      <td>997.380000</td>\n      <td>1003.880000</td>\n      <td>84.453333</td>\n      <td>0.0</td>\n      <td>0.0</td>\n      <td>1</td>\n      <td>7</td>\n      <td>0</td>\n    </tr>\n    <tr>\n      <th>1</th>\n      <td>2019-07-01 00:15:00</td>\n      <td>0.0</td>\n      <td>23.200000</td>\n      <td>0.0</td>\n      <td>225.486667</td>\n      <td>1.306667</td>\n      <td>997.266667</td>\n      <td>1003.766667</td>\n      <td>84.853333</td>\n      <td>0.0</td>\n      <td>0.0</td>\n      <td>1</td>\n      <td>7</td>\n      <td>0</td>\n    </tr>\n    <tr>\n      <th>2</th>\n      <td>2019-07-01 00:30:00</td>\n      <td>0.0</td>\n      <td>23.200000</td>\n      <td>0.0</td>\n      <td>223.140000</td>\n      <td>0.646667</td>\n      <td>997.200000</td>\n      <td>1003.700000</td>\n      <td>85.280000</td>\n      <td>0.0</td>\n      <td>0.0</td>\n      <td>1</td>\n      <td>7</td>\n      <td>0</td>\n    </tr>\n    <tr>\n      <th>3</th>\n      <td>2019-07-01 00:45:00</td>\n      <td>0.0</td>\n      <td>23.200000</td>\n      <td>0.0</td>\n      <td>252.066667</td>\n      <td>1.053333</td>\n      <td>997.200000</td>\n      <td>1003.700000</td>\n      <td>85.560000</td>\n      <td>0.0</td>\n      <td>0.0</td>\n      <td>1</td>\n      <td>7</td>\n      <td>0</td>\n    </tr>\n    <tr>\n      <th>4</th>\n      <td>2019-07-01 01:00:00</td>\n      <td>0.0</td>\n      <td>23.200000</td>\n      <td>0.0</td>\n      <td>230.933333</td>\n      <td>0.973333</td>\n      <td>997.133333</td>\n      <td>1003.633333</td>\n      <td>85.740000</td>\n      <td>0.0</td>\n      <td>0.0</td>\n      <td>1</td>\n      <td>7</td>\n      <td>1</td>\n    </tr>\n  </tbody>\n</table>\n</div>"
     },
     "metadata": {},
     "output_type": "execute_result",
     "execution_count": 48
    }
   ],
   "source": [
    "df = pd.read_csv(\"dataset_diff.csv\")\n",
    "\n",
    "df.rename(columns={'일시':'datetime'}, inplace=True)\n",
    "df.head(5)"
   ],
   "metadata": {
    "collapsed": false,
    "pycharm": {
     "name": "#%%\n",
     "is_executing": false
    }
   }
  },
  {
   "cell_type": "code",
   "execution_count": 49,
   "outputs": [
    {
     "data": {
      "text/plain": "Timestamp('2019-07-01 00:15:00')"
     },
     "metadata": {},
     "output_type": "execute_result",
     "execution_count": 49
    }
   ],
   "source": [
    "type(pd.to_datetime(df.datetime[1], infer_datetime_format=True)) \n",
    "pd.to_datetime(df.datetime[1], infer_datetime_format=True)\n",
    "\n"
   ],
   "metadata": {
    "collapsed": false,
    "pycharm": {
     "name": "#%%\n",
     "is_executing": false
    }
   }
  },
  {
   "cell_type": "code",
   "execution_count": 50,
   "outputs": [],
   "source": [
    "df.datetime = pd.to_datetime(df.datetime, infer_datetime_format=True)"
   ],
   "metadata": {
    "collapsed": false,
    "pycharm": {
     "name": "#%%\n",
     "is_executing": false
    }
   }
  },
  {
   "cell_type": "code",
   "execution_count": 51,
   "outputs": [],
   "source": [
    "import numpy as np\n",
    "df[\"difference\"] = df[\"datetime\"].sub(pd.to_datetime(\"2019-01-01\", infer_datetime_format=True), axis=0)/ np.timedelta64(1, 'D')"
   ],
   "metadata": {
    "collapsed": false,
    "pycharm": {
     "name": "#%%\n",
     "is_executing": false
    }
   }
  },
  {
   "cell_type": "code",
   "execution_count": 52,
   "outputs": [
    {
     "name": "stderr",
     "text": [
      "/usr/local/lib/python3.7/site-packages/pandas/core/indexing.py:205: SettingWithCopyWarning: \n",
      "A value is trying to be set on a copy of a slice from a DataFrame\n",
      "\n",
      "See the caveats in the documentation: http://pandas.pydata.org/pandas-docs/stable/user_guide/indexing.html#returning-a-view-versus-a-copy\n",
      "  self._setitem_with_indexer(indexer, value)\n"
     ],
     "output_type": "stream"
    }
   ],
   "source": [
    "# df.loc[df.difference >= 365] = df.loc[df.difference >= 365].difference - 365\n",
    "\n",
    "for x in range(len(df.difference)):\n",
    "    if df.difference.iloc[x] > 365:\n",
    "        df.difference.iloc[x] -= 365 "
   ],
   "metadata": {
    "collapsed": false,
    "pycharm": {
     "name": "#%%\n",
     "is_executing": false
    }
   }
  },
  {
   "cell_type": "code",
   "execution_count": 53,
   "outputs": [],
   "source": [
    "df.to_csv(\"datefrom1st.csv\")"
   ],
   "metadata": {
    "collapsed": false,
    "pycharm": {
     "name": "#%%\n",
     "is_executing": false
    }
   }
  }
 ],
 "metadata": {
  "kernelspec": {
   "display_name": "Python 3",
   "language": "python",
   "name": "python3"
  },
  "language_info": {
   "codemirror_mode": {
    "name": "ipython",
    "version": 2
   },
   "file_extension": ".py",
   "mimetype": "text/x-python",
   "name": "python",
   "nbconvert_exporter": "python",
   "pygments_lexer": "ipython2",
   "version": "2.7.6"
  },
  "pycharm": {
   "stem_cell": {
    "cell_type": "raw",
    "source": [],
    "metadata": {
     "collapsed": false
    }
   }
  }
 },
 "nbformat": 4,
 "nbformat_minor": 0
}