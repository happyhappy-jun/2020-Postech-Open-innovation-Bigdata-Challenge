{
 "cells": [
  {
   "cell_type": "code",
   "execution_count": 127,
   "metadata": {
    "collapsed": true,
    "pycharm": {
     "is_executing": false,
     "name": "#%%\n"
    }
   },
   "outputs": [],
   "source": [
    "import keras\n",
    "import numpy as np\n",
    "import pandas as pd\n",
    "import matplotlib.pyplot as plt\n",
    "import tensorflow as tf\n",
    "from sklearn.model_selection import TimeSeriesSplit, train_test_split\n",
    "# from tf.keras.models import Sequential # This does not work!\n",
    "from tensorflow.python.keras.models import Sequential\n",
    "from tensorflow.keras.layers import Input, Dense, GRU, Embedding\n",
    "from tensorflow.keras.optimizers import RMSprop\n",
    "from tensorflow.python.keras.callbacks import EarlyStopping, ModelCheckpoint, TensorBoard, ReduceLROnPlateau"
   ]
  },
  {
   "cell_type": "code",
   "execution_count": 128,
   "outputs": [],
   "source": [
    "from sklearn.preprocessing import MinMaxScaler\n",
    "df = pd.read_csv(\"../data/datefrom1st.csv\")\n",
    "df.index = df.datetime\n",
    "df = df.drop([\"Unnamed: 0\",'datetime'], axis = 1)"
   ],
   "metadata": {
    "collapsed": false,
    "pycharm": {
     "name": "#%%\n",
     "is_executing": false
    }
   }
  },
  {
   "cell_type": "code",
   "execution_count": 129,
   "outputs": [],
   "source": [
    "def multivariate_data(ds, target, start_index, end_index, history_size, target_size, step, single_step=False):\n",
    "  data = []\n",
    "  labels = []\n",
    "\n",
    "  start_index = start_index + history_size\n",
    "  if end_index is None:\n",
    "    end_index = len(ds) - target_size\n",
    "\n",
    "  for i in range(start_index, end_index):\n",
    "    indices = range(i-history_size, i, step)\n",
    "    data.append(ds[indices])\n",
    "\n",
    "    if single_step:\n",
    "      labels.append(target[i+target_size])\n",
    "    else:\n",
    "      labels.append(target[i:i+target_size])\n",
    "\n",
    "  return np.array(data), np.array(labels)"
   ],
   "metadata": {
    "collapsed": false,
    "pycharm": {
     "name": "#%%\n",
     "is_executing": false
    }
   }
  },
  {
   "cell_type": "code",
   "execution_count": 130,
   "outputs": [],
   "source": [
    "BUFFER_SIZE = 10000\n",
    "BATCH_SIZE = 256\n",
    "TEST_RATIO = 0.3\n",
    "TRAIN_SIZE = int((1-TEST_RATIO)*df.shape[0])"
   ],
   "metadata": {
    "collapsed": false,
    "pycharm": {
     "name": "#%%\n",
     "is_executing": false
    }
   }
  },
  {
   "cell_type": "code",
   "execution_count": 131,
   "outputs": [
    {
     "data": {
      "text/plain": "                     result  temperature  percipitation  wind_degree  \\\ndatetime                                                               \n2019-07-01 00:00:00     0.0    23.273333            0.0   216.073333   \n2019-07-01 00:15:00     0.0    23.200000            0.0   225.486667   \n2019-07-01 00:30:00     0.0    23.200000            0.0   223.140000   \n2019-07-01 00:45:00     0.0    23.200000            0.0   252.066667   \n2019-07-01 01:00:00     0.0    23.200000            0.0   230.933333   \n\n                     wind_speed  air_pressure  sea_level_pressure   humidity  \\\ndatetime                                                                       \n2019-07-01 00:00:00    1.193333    997.380000         1003.880000  84.453333   \n2019-07-01 00:15:00    1.306667    997.266667         1003.766667  84.853333   \n2019-07-01 00:30:00    0.646667    997.200000         1003.700000  85.280000   \n2019-07-01 00:45:00    1.053333    997.200000         1003.700000  85.560000   \n2019-07-01 01:00:00    0.973333    997.133333         1003.633333  85.740000   \n\n                     solar_radiation  solar_intensity  difference  \ndatetime                                                           \n2019-07-01 00:00:00              0.0              0.0  181.000000  \n2019-07-01 00:15:00              0.0              0.0  181.010417  \n2019-07-01 00:30:00              0.0              0.0  181.020833  \n2019-07-01 00:45:00              0.0              0.0  181.031250  \n2019-07-01 01:00:00              0.0              0.0  181.041667  ",
      "text/html": "<div>\n<style scoped>\n    .dataframe tbody tr th:only-of-type {\n        vertical-align: middle;\n    }\n\n    .dataframe tbody tr th {\n        vertical-align: top;\n    }\n\n    .dataframe thead th {\n        text-align: right;\n    }\n</style>\n<table border=\"1\" class=\"dataframe\">\n  <thead>\n    <tr style=\"text-align: right;\">\n      <th></th>\n      <th>result</th>\n      <th>temperature</th>\n      <th>percipitation</th>\n      <th>wind_degree</th>\n      <th>wind_speed</th>\n      <th>air_pressure</th>\n      <th>sea_level_pressure</th>\n      <th>humidity</th>\n      <th>solar_radiation</th>\n      <th>solar_intensity</th>\n      <th>difference</th>\n    </tr>\n    <tr>\n      <th>datetime</th>\n      <th></th>\n      <th></th>\n      <th></th>\n      <th></th>\n      <th></th>\n      <th></th>\n      <th></th>\n      <th></th>\n      <th></th>\n      <th></th>\n      <th></th>\n    </tr>\n  </thead>\n  <tbody>\n    <tr>\n      <th>2019-07-01 00:00:00</th>\n      <td>0.0</td>\n      <td>23.273333</td>\n      <td>0.0</td>\n      <td>216.073333</td>\n      <td>1.193333</td>\n      <td>997.380000</td>\n      <td>1003.880000</td>\n      <td>84.453333</td>\n      <td>0.0</td>\n      <td>0.0</td>\n      <td>181.000000</td>\n    </tr>\n    <tr>\n      <th>2019-07-01 00:15:00</th>\n      <td>0.0</td>\n      <td>23.200000</td>\n      <td>0.0</td>\n      <td>225.486667</td>\n      <td>1.306667</td>\n      <td>997.266667</td>\n      <td>1003.766667</td>\n      <td>84.853333</td>\n      <td>0.0</td>\n      <td>0.0</td>\n      <td>181.010417</td>\n    </tr>\n    <tr>\n      <th>2019-07-01 00:30:00</th>\n      <td>0.0</td>\n      <td>23.200000</td>\n      <td>0.0</td>\n      <td>223.140000</td>\n      <td>0.646667</td>\n      <td>997.200000</td>\n      <td>1003.700000</td>\n      <td>85.280000</td>\n      <td>0.0</td>\n      <td>0.0</td>\n      <td>181.020833</td>\n    </tr>\n    <tr>\n      <th>2019-07-01 00:45:00</th>\n      <td>0.0</td>\n      <td>23.200000</td>\n      <td>0.0</td>\n      <td>252.066667</td>\n      <td>1.053333</td>\n      <td>997.200000</td>\n      <td>1003.700000</td>\n      <td>85.560000</td>\n      <td>0.0</td>\n      <td>0.0</td>\n      <td>181.031250</td>\n    </tr>\n    <tr>\n      <th>2019-07-01 01:00:00</th>\n      <td>0.0</td>\n      <td>23.200000</td>\n      <td>0.0</td>\n      <td>230.933333</td>\n      <td>0.973333</td>\n      <td>997.133333</td>\n      <td>1003.633333</td>\n      <td>85.740000</td>\n      <td>0.0</td>\n      <td>0.0</td>\n      <td>181.041667</td>\n    </tr>\n  </tbody>\n</table>\n</div>"
     },
     "metadata": {},
     "output_type": "execute_result",
     "execution_count": 131
    }
   ],
   "source": [
    "df.head(5)\n"
   ],
   "metadata": {
    "collapsed": false,
    "pycharm": {
     "name": "#%%\n",
     "is_executing": false
    }
   }
  },
  {
   "cell_type": "code",
   "execution_count": 132,
   "outputs": [],
   "source": [
    "shift_days = 1\n",
    "shift_steps = shift_days * 24 * 4\n",
    "df_targets = df.result.shift(-shift_steps)"
   ],
   "metadata": {
    "collapsed": false,
    "pycharm": {
     "name": "#%%\n",
     "is_executing": false
    }
   }
  },
  {
   "cell_type": "code",
   "execution_count": 133,
   "outputs": [],
   "source": [
    "# X_train, X_test, y_train, y_test = train_test_split(dataset[:,1:], dataset[:,0], test_size=0.20, shuffle=False)\n",
    "# "
   ],
   "metadata": {
    "collapsed": false,
    "pycharm": {
     "name": "#%%\n",
     "is_executing": false
    }
   }
  },
  {
   "cell_type": "code",
   "execution_count": 134,
   "outputs": [
    {
     "data": {
      "text/plain": "                     result  temperature  percipitation  wind_degree  \\\ndatetime                                                               \n2019-07-01 00:00:00     0.0    23.273333            0.0   216.073333   \n2019-07-01 00:15:00     0.0    23.200000            0.0   225.486667   \n2019-07-01 00:30:00     0.0    23.200000            0.0   223.140000   \n2019-07-01 00:45:00     0.0    23.200000            0.0   252.066667   \n2019-07-01 01:00:00     0.0    23.200000            0.0   230.933333   \n2019-07-01 01:15:00     0.0    23.140000            0.0   218.113333   \n2019-07-01 01:30:00     0.0    23.133333            0.0   255.533333   \n2019-07-01 01:45:00     0.0    23.133333            0.0   251.833333   \n2019-07-01 02:00:00     0.0    23.100000            0.0   248.373333   \n2019-07-01 02:15:00     0.0    23.100000            0.0   235.200000   \n2019-07-01 02:30:00     0.0    23.000000            0.0   234.033333   \n2019-07-01 02:45:00     0.0    23.020000            0.0   253.526667   \n2019-07-01 03:00:00     0.0    23.000000            0.0   246.360000   \n2019-07-01 03:15:00     0.0    22.886667            0.0   239.693333   \n2019-07-01 03:30:00     0.0    22.733333            0.0   252.326667   \n\n                     wind_speed  air_pressure  sea_level_pressure   humidity  \\\ndatetime                                                                       \n2019-07-01 00:00:00    1.193333    997.380000         1003.880000  84.453333   \n2019-07-01 00:15:00    1.306667    997.266667         1003.766667  84.853333   \n2019-07-01 00:30:00    0.646667    997.200000         1003.700000  85.280000   \n2019-07-01 00:45:00    1.053333    997.200000         1003.700000  85.560000   \n2019-07-01 01:00:00    0.973333    997.133333         1003.633333  85.740000   \n2019-07-01 01:15:00    0.900000    997.026667         1003.526667  85.893333   \n2019-07-01 01:30:00    1.366667    997.160000         1003.660000  86.080000   \n2019-07-01 01:45:00    0.940000    997.080000         1003.580000  86.186667   \n2019-07-01 02:00:00    1.360000    996.966667         1003.466667  86.146667   \n2019-07-01 02:15:00    1.233333    996.866667         1003.366667  86.266667   \n2019-07-01 02:30:00    0.726667    996.993333         1003.493333  86.700000   \n2019-07-01 02:45:00    1.253333    997.000000         1003.500000  86.693333   \n2019-07-01 03:00:00    1.386667    997.013333         1003.513333  86.773333   \n2019-07-01 03:15:00    1.013333    997.040000         1003.540000  87.100000   \n2019-07-01 03:30:00    1.400000    997.060000         1003.560000  87.573333   \n\n                     solar_radiation  solar_intensity  difference  \ndatetime                                                           \n2019-07-01 00:00:00              0.0              0.0  181.000000  \n2019-07-01 00:15:00              0.0              0.0  181.010417  \n2019-07-01 00:30:00              0.0              0.0  181.020833  \n2019-07-01 00:45:00              0.0              0.0  181.031250  \n2019-07-01 01:00:00              0.0              0.0  181.041667  \n2019-07-01 01:15:00              0.0              0.0  181.052083  \n2019-07-01 01:30:00              0.0              0.0  181.062500  \n2019-07-01 01:45:00              0.0              0.0  181.072917  \n2019-07-01 02:00:00              0.0              0.0  181.083333  \n2019-07-01 02:15:00              0.0              0.0  181.093750  \n2019-07-01 02:30:00              0.0              0.0  181.104167  \n2019-07-01 02:45:00              0.0              0.0  181.114583  \n2019-07-01 03:00:00              0.0              0.0  181.125000  \n2019-07-01 03:15:00              0.0              0.0  181.135417  \n2019-07-01 03:30:00              0.0              0.0  181.145833  ",
      "text/html": "<div>\n<style scoped>\n    .dataframe tbody tr th:only-of-type {\n        vertical-align: middle;\n    }\n\n    .dataframe tbody tr th {\n        vertical-align: top;\n    }\n\n    .dataframe thead th {\n        text-align: right;\n    }\n</style>\n<table border=\"1\" class=\"dataframe\">\n  <thead>\n    <tr style=\"text-align: right;\">\n      <th></th>\n      <th>result</th>\n      <th>temperature</th>\n      <th>percipitation</th>\n      <th>wind_degree</th>\n      <th>wind_speed</th>\n      <th>air_pressure</th>\n      <th>sea_level_pressure</th>\n      <th>humidity</th>\n      <th>solar_radiation</th>\n      <th>solar_intensity</th>\n      <th>difference</th>\n    </tr>\n    <tr>\n      <th>datetime</th>\n      <th></th>\n      <th></th>\n      <th></th>\n      <th></th>\n      <th></th>\n      <th></th>\n      <th></th>\n      <th></th>\n      <th></th>\n      <th></th>\n      <th></th>\n    </tr>\n  </thead>\n  <tbody>\n    <tr>\n      <th>2019-07-01 00:00:00</th>\n      <td>0.0</td>\n      <td>23.273333</td>\n      <td>0.0</td>\n      <td>216.073333</td>\n      <td>1.193333</td>\n      <td>997.380000</td>\n      <td>1003.880000</td>\n      <td>84.453333</td>\n      <td>0.0</td>\n      <td>0.0</td>\n      <td>181.000000</td>\n    </tr>\n    <tr>\n      <th>2019-07-01 00:15:00</th>\n      <td>0.0</td>\n      <td>23.200000</td>\n      <td>0.0</td>\n      <td>225.486667</td>\n      <td>1.306667</td>\n      <td>997.266667</td>\n      <td>1003.766667</td>\n      <td>84.853333</td>\n      <td>0.0</td>\n      <td>0.0</td>\n      <td>181.010417</td>\n    </tr>\n    <tr>\n      <th>2019-07-01 00:30:00</th>\n      <td>0.0</td>\n      <td>23.200000</td>\n      <td>0.0</td>\n      <td>223.140000</td>\n      <td>0.646667</td>\n      <td>997.200000</td>\n      <td>1003.700000</td>\n      <td>85.280000</td>\n      <td>0.0</td>\n      <td>0.0</td>\n      <td>181.020833</td>\n    </tr>\n    <tr>\n      <th>2019-07-01 00:45:00</th>\n      <td>0.0</td>\n      <td>23.200000</td>\n      <td>0.0</td>\n      <td>252.066667</td>\n      <td>1.053333</td>\n      <td>997.200000</td>\n      <td>1003.700000</td>\n      <td>85.560000</td>\n      <td>0.0</td>\n      <td>0.0</td>\n      <td>181.031250</td>\n    </tr>\n    <tr>\n      <th>2019-07-01 01:00:00</th>\n      <td>0.0</td>\n      <td>23.200000</td>\n      <td>0.0</td>\n      <td>230.933333</td>\n      <td>0.973333</td>\n      <td>997.133333</td>\n      <td>1003.633333</td>\n      <td>85.740000</td>\n      <td>0.0</td>\n      <td>0.0</td>\n      <td>181.041667</td>\n    </tr>\n    <tr>\n      <th>2019-07-01 01:15:00</th>\n      <td>0.0</td>\n      <td>23.140000</td>\n      <td>0.0</td>\n      <td>218.113333</td>\n      <td>0.900000</td>\n      <td>997.026667</td>\n      <td>1003.526667</td>\n      <td>85.893333</td>\n      <td>0.0</td>\n      <td>0.0</td>\n      <td>181.052083</td>\n    </tr>\n    <tr>\n      <th>2019-07-01 01:30:00</th>\n      <td>0.0</td>\n      <td>23.133333</td>\n      <td>0.0</td>\n      <td>255.533333</td>\n      <td>1.366667</td>\n      <td>997.160000</td>\n      <td>1003.660000</td>\n      <td>86.080000</td>\n      <td>0.0</td>\n      <td>0.0</td>\n      <td>181.062500</td>\n    </tr>\n    <tr>\n      <th>2019-07-01 01:45:00</th>\n      <td>0.0</td>\n      <td>23.133333</td>\n      <td>0.0</td>\n      <td>251.833333</td>\n      <td>0.940000</td>\n      <td>997.080000</td>\n      <td>1003.580000</td>\n      <td>86.186667</td>\n      <td>0.0</td>\n      <td>0.0</td>\n      <td>181.072917</td>\n    </tr>\n    <tr>\n      <th>2019-07-01 02:00:00</th>\n      <td>0.0</td>\n      <td>23.100000</td>\n      <td>0.0</td>\n      <td>248.373333</td>\n      <td>1.360000</td>\n      <td>996.966667</td>\n      <td>1003.466667</td>\n      <td>86.146667</td>\n      <td>0.0</td>\n      <td>0.0</td>\n      <td>181.083333</td>\n    </tr>\n    <tr>\n      <th>2019-07-01 02:15:00</th>\n      <td>0.0</td>\n      <td>23.100000</td>\n      <td>0.0</td>\n      <td>235.200000</td>\n      <td>1.233333</td>\n      <td>996.866667</td>\n      <td>1003.366667</td>\n      <td>86.266667</td>\n      <td>0.0</td>\n      <td>0.0</td>\n      <td>181.093750</td>\n    </tr>\n    <tr>\n      <th>2019-07-01 02:30:00</th>\n      <td>0.0</td>\n      <td>23.000000</td>\n      <td>0.0</td>\n      <td>234.033333</td>\n      <td>0.726667</td>\n      <td>996.993333</td>\n      <td>1003.493333</td>\n      <td>86.700000</td>\n      <td>0.0</td>\n      <td>0.0</td>\n      <td>181.104167</td>\n    </tr>\n    <tr>\n      <th>2019-07-01 02:45:00</th>\n      <td>0.0</td>\n      <td>23.020000</td>\n      <td>0.0</td>\n      <td>253.526667</td>\n      <td>1.253333</td>\n      <td>997.000000</td>\n      <td>1003.500000</td>\n      <td>86.693333</td>\n      <td>0.0</td>\n      <td>0.0</td>\n      <td>181.114583</td>\n    </tr>\n    <tr>\n      <th>2019-07-01 03:00:00</th>\n      <td>0.0</td>\n      <td>23.000000</td>\n      <td>0.0</td>\n      <td>246.360000</td>\n      <td>1.386667</td>\n      <td>997.013333</td>\n      <td>1003.513333</td>\n      <td>86.773333</td>\n      <td>0.0</td>\n      <td>0.0</td>\n      <td>181.125000</td>\n    </tr>\n    <tr>\n      <th>2019-07-01 03:15:00</th>\n      <td>0.0</td>\n      <td>22.886667</td>\n      <td>0.0</td>\n      <td>239.693333</td>\n      <td>1.013333</td>\n      <td>997.040000</td>\n      <td>1003.540000</td>\n      <td>87.100000</td>\n      <td>0.0</td>\n      <td>0.0</td>\n      <td>181.135417</td>\n    </tr>\n    <tr>\n      <th>2019-07-01 03:30:00</th>\n      <td>0.0</td>\n      <td>22.733333</td>\n      <td>0.0</td>\n      <td>252.326667</td>\n      <td>1.400000</td>\n      <td>997.060000</td>\n      <td>1003.560000</td>\n      <td>87.573333</td>\n      <td>0.0</td>\n      <td>0.0</td>\n      <td>181.145833</td>\n    </tr>\n  </tbody>\n</table>\n</div>"
     },
     "metadata": {},
     "output_type": "execute_result",
     "execution_count": 134
    }
   ],
   "source": [
    "df.head(15)"
   ],
   "metadata": {
    "collapsed": false,
    "pycharm": {
     "name": "#%%\n",
     "is_executing": false
    }
   }
  },
  {
   "cell_type": "code",
   "execution_count": 135,
   "outputs": [
    {
     "name": "stdout",
     "text": [
      "<class 'numpy.ndarray'>\n",
      "Shape: (35041, 11)\n"
     ],
     "output_type": "stream"
    }
   ],
   "source": [
    "x_data = df.values[0:-shift_steps]\n",
    "print(type(x_data))\n",
    "print(\"Shape:\", x_data.shape)"
   ],
   "metadata": {
    "collapsed": false,
    "pycharm": {
     "name": "#%%\n",
     "is_executing": false
    }
   }
  },
  {
   "cell_type": "code",
   "execution_count": 136,
   "outputs": [
    {
     "name": "stdout",
     "text": [
      "<class 'numpy.ndarray'>\n",
      "Shape: (35041,)\n"
     ],
     "output_type": "stream"
    }
   ],
   "source": [
    "y_data = df_targets.values[:-shift_steps]\n",
    "print(type(y_data))\n",
    "print(\"Shape:\", y_data.shape)\n",
    "    "
   ],
   "metadata": {
    "collapsed": false,
    "pycharm": {
     "name": "#%%\n",
     "is_executing": false
    }
   }
  },
  {
   "cell_type": "code",
   "execution_count": 137,
   "outputs": [],
   "source": [
    "num_data = len(x_data)\n",
    "train_split = 0.9\n",
    "num_train = int(train_split * num_data)\n",
    "num_test = num_data - num_train\n",
    "x_train = x_data[0:num_train]\n",
    "x_test = x_data[num_train:]\n",
    "y_train = y_data[0:num_train]\n",
    "y_test = y_data[num_train:]\n",
    "num_x_signals = x_data.shape[1]\n",
    "num_y_signals = 1"
   ],
   "metadata": {
    "collapsed": false,
    "pycharm": {
     "name": "#%%\n",
     "is_executing": false
    }
   }
  },
  {
   "cell_type": "code",
   "execution_count": 138,
   "outputs": [
    {
     "name": "stdout",
     "text": [
      "Min: 0.0\n",
      "Max: 1.0\n"
     ],
     "output_type": "stream"
    }
   ],
   "source": [
    "x_scaler = MinMaxScaler()\n",
    "x_train_scaled = x_scaler.fit_transform(x_train)\n",
    "print(\"Min:\", np.min(x_train_scaled))\n",
    "print(\"Max:\", np.max(x_train_scaled))"
   ],
   "metadata": {
    "collapsed": false,
    "pycharm": {
     "name": "#%%\n",
     "is_executing": false
    }
   }
  },
  {
   "cell_type": "code",
   "execution_count": 139,
   "outputs": [],
   "source": [
    "x_test_scaled = x_scaler.transform(x_test)\n",
    "y_scaler = MinMaxScaler()\n",
    "y_train_scaled = y_scaler.fit_transform(y_train.reshape(-1, 1))\n",
    "y_test_scaled = y_scaler.transform(y_test.reshape(-1, 1))"
   ],
   "metadata": {
    "collapsed": false,
    "pycharm": {
     "name": "#%%\n",
     "is_executing": false
    }
   }
  },
  {
   "cell_type": "code",
   "execution_count": 139,
   "outputs": [],
   "source": [],
   "metadata": {
    "collapsed": false,
    "pycharm": {
     "name": "#%%\n",
     "is_executing": false
    }
   }
  },
  {
   "cell_type": "code",
   "execution_count": 140,
   "outputs": [
    {
     "name": "stdout",
     "text": [
      "(31536, 11)\n",
      "(31536, 1)\n"
     ],
     "output_type": "stream"
    }
   ],
   "source": [
    "print(x_train_scaled.shape)\n",
    "print(y_train_scaled.shape)"
   ],
   "metadata": {
    "collapsed": false,
    "pycharm": {
     "name": "#%%\n",
     "is_executing": false
    }
   }
  },
  {
   "cell_type": "code",
   "execution_count": 141,
   "outputs": [],
   "source": [
    "def batch_generator(batch_size, sequence_length):\n",
    "    \"\"\"\n",
    "    Generator function for creating random batches of training-data.\n",
    "    \"\"\"\n",
    "    # Infinite loop.\n",
    "    while True:\n",
    "        # Allocate a new array for the batch of input-signals.\n",
    "        x_shape = (batch_size, sequence_length, num_x_signals)\n",
    "        x_batch = np.zeros(shape=x_shape, dtype=np.float16)\n",
    "        # Allocate a new array for the batch of output-signals.\n",
    "        y_shape = (batch_size, sequence_length, num_y_signals)\n",
    "        y_batch = np.zeros(shape=y_shape, dtype=np.float16)\n",
    "        # Fill the batch with random sequences of data.\n",
    "        for i in range(batch_size):\n",
    "            # Get a random start-index.\n",
    "            # This points somewhere into the training-data.\n",
    "            idx = np.random.randint(num_train - sequence_length)\n",
    "            \n",
    "            # Copy the sequences of data starting at this index.\n",
    "            x_batch[i] = x_train_scaled[idx:idx+sequence_length]\n",
    "            y_batch[i] = y_train_scaled[idx:idx+sequence_length]\n",
    "\n",
    "        yield (x_batch, y_batch)"
   ],
   "metadata": {
    "collapsed": false,
    "pycharm": {
     "name": "#%%\n",
     "is_executing": false
    }
   }
  },
  {
   "cell_type": "code",
   "execution_count": 142,
   "outputs": [],
   "source": [
    "batch_size = 256\n",
    "sequence_length = 24 * 7 * 4 * 4"
   ],
   "metadata": {
    "collapsed": false,
    "pycharm": {
     "name": "#%%\n",
     "is_executing": false
    }
   }
  },
  {
   "cell_type": "code",
   "execution_count": 143,
   "outputs": [],
   "source": [
    "generator = batch_generator(batch_size=batch_size,\n",
    " sequence_length=sequence_length)"
   ],
   "metadata": {
    "collapsed": false,
    "pycharm": {
     "name": "#%%\n",
     "is_executing": false
    }
   }
  },
  {
   "cell_type": "code",
   "execution_count": 144,
   "outputs": [],
   "source": [
    "x_batch, y_batch = next(generator)"
   ],
   "metadata": {
    "collapsed": false,
    "pycharm": {
     "name": "#%%\n",
     "is_executing": false
    }
   }
  },
  {
   "cell_type": "code",
   "execution_count": 145,
   "outputs": [
    {
     "name": "stdout",
     "text": [
      "(256, 2688, 11)\n",
      "(256, 2688, 1)\n"
     ],
     "output_type": "stream"
    }
   ],
   "source": [
    "print(x_batch.shape)\n",
    "print(y_batch.shape)"
   ],
   "metadata": {
    "collapsed": false,
    "pycharm": {
     "name": "#%%\n",
     "is_executing": false
    }
   }
  },
  {
   "cell_type": "code",
   "execution_count": 146,
   "outputs": [
    {
     "data": {
      "text/plain": "[<matplotlib.lines.Line2D at 0x15d8cb750>]"
     },
     "metadata": {},
     "output_type": "execute_result",
     "execution_count": 146
    },
    {
     "data": {
      "text/plain": "<Figure size 432x288 with 1 Axes>",
      "image/png": "[encoded data removed]"
     },
     "metadata": {
      "needs_background": "light"
     },
     "output_type": "display_data"
    }
   ],
   "source": [
    "batch = 0 # First sequence in the batch.\n",
    "signal = 0 # First signal from the 20 input-signals.\n",
    "seq = x_batch[batch, :, signal]\n",
    "plt.plot(seq)"
   ],
   "metadata": {
    "collapsed": false,
    "pycharm": {
     "name": "#%%\n",
     "is_executing": false
    }
   }
  },
  {
   "cell_type": "code",
   "execution_count": 147,
   "outputs": [
    {
     "data": {
      "text/plain": "[<matplotlib.lines.Line2D at 0x15d91c2d0>]"
     },
     "metadata": {},
     "output_type": "execute_result",
     "execution_count": 147
    },
    {
     "data": {
      "text/plain": "<Figure size 432x288 with 1 Axes>",
      "image/png": "[encoded data removed]"
     },
     "metadata": {
      "needs_background": "light"
     },
     "output_type": "display_data"
    }
   ],
   "source": [
    "seq = y_batch[batch, :, signal]\n",
    "plt.plot(seq)"
   ],
   "metadata": {
    "collapsed": false,
    "pycharm": {
     "name": "#%%\n",
     "is_executing": false
    }
   }
  },
  {
   "cell_type": "code",
   "execution_count": 148,
   "outputs": [],
   "source": [
    "validation_data = (np.expand_dims(x_test_scaled, axis=0),\n",
    " np.expand_dims(y_test_scaled, axis=0))"
   ],
   "metadata": {
    "collapsed": false,
    "pycharm": {
     "name": "#%%\n",
     "is_executing": false
    }
   }
  },
  {
   "cell_type": "code",
   "execution_count": 149,
   "outputs": [],
   "source": [
    "model = keras.models.Sequential()\n",
    "model.add(GRU(units=512,\n",
    " return_sequences=True,\n",
    " input_shape=(None, num_x_signals,)))\n",
    "model.add(Dense(num_y_signals, activation='sigmoid'))\n"
   ],
   "metadata": {
    "collapsed": false,
    "pycharm": {
     "name": "#%%\n",
     "is_executing": false
    }
   }
  },
  {
   "cell_type": "code",
   "execution_count": 150,
   "outputs": [],
   "source": [
    "warmup_steps = 50"
   ],
   "metadata": {
    "collapsed": false,
    "pycharm": {
     "name": "#%%\n",
     "is_executing": false
    }
   }
  },
  {
   "cell_type": "code",
   "execution_count": 151,
   "outputs": [],
   "source": [
    "def loss_mse_warmup(y_true, y_pred):\n",
    "    \"\"\"\n",
    "    Calculate the Mean Squared Error between y_true and y_pred,\n",
    "    but ignore the beginning \"warmup\" part of the sequences.\n",
    "    \n",
    "    y_true is the desired output.\n",
    "    y_pred is the model's output.\n",
    "    \"\"\"\n",
    "    # The shape of both input tensors are:\n",
    "    # [batch_size, sequence_length, num_y_signals].\n",
    "    # Ignore the \"warmup\" parts of the sequences\n",
    "    # by taking slices of the tensors.\n",
    "    y_true_slice = y_true[:, warmup_steps:, :]\n",
    "    y_pred_slice = y_pred[:, warmup_steps:, :]\n",
    "    # These sliced tensors both have this shape:\n",
    "    # [batch_size, sequence_length - warmup_steps, num_y_signals]\n",
    "    # Calculate the MSE loss for each value in these tensors.\n",
    "    # This outputs a 3-rank tensor of the same shape.\n",
    "    loss = tf.keras.losses.MSE(y_true_slice,y_pred_slice)\n",
    "    # Keras may reduce this across the first axis (the batch)\n",
    "    # but the semantics are unclear, so to be sure we use\n",
    "    # the loss across the entire tensor, we reduce it to a\n",
    "    # single scalar with the mean function.\n",
    "    loss_mean = tf.reduce_mean(loss)\n",
    "    return loss_mean"
   ],
   "metadata": {
    "collapsed": false,
    "pycharm": {
     "name": "#%%\n",
     "is_executing": false
    }
   }
  },
  {
   "cell_type": "code",
   "execution_count": 152,
   "outputs": [
    {
     "name": "stdout",
     "text": [
      "Model: \"sequential_3\"\n",
      "_________________________________________________________________\n",
      "Layer (type)                 Output Shape              Param #   \n",
      "=================================================================\n",
      "gru_1 (GRU)                  (None, None, 512)         806400    \n",
      "_________________________________________________________________\n",
      "dense_1 (Dense)              (None, None, 1)           513       \n",
      "=================================================================\n",
      "Total params: 806,913\n",
      "Trainable params: 806,913\n",
      "Non-trainable params: 0\n",
      "_________________________________________________________________\n"
     ],
     "output_type": "stream"
    }
   ],
   "source": [
    "optimizer = RMSprop(lr=1e-3)\n",
    "model.compile(loss=loss_mse_warmup, optimizer=optimizer)\n",
    "model.summary()"
   ],
   "metadata": {
    "collapsed": false,
    "pycharm": {
     "name": "#%%\n",
     "is_executing": false
    }
   }
  },
  {
   "cell_type": "code",
   "execution_count": 153,
   "outputs": [],
   "source": [
    "path_checkpoint = '23_checkpoint.keras'\n",
    "callback_checkpoint = ModelCheckpoint(filepath=path_checkpoint,\n",
    " monitor='val_loss',\n",
    "verbose=1,\n",
    "save_weights_only=True,\n",
    "save_best_only=True)\n",
    "\n"
   ],
   "metadata": {
    "collapsed": false,
    "pycharm": {
     "name": "#%%\n",
     "is_executing": false
    }
   }
  },
  {
   "cell_type": "code",
   "execution_count": 154,
   "outputs": [],
   "source": [
    "callback_early_stopping = EarlyStopping(monitor='val_loss',patience=5, verbose=1)"
   ],
   "metadata": {
    "collapsed": false,
    "pycharm": {
     "name": "#%%\n",
     "is_executing": false
    }
   }
  },
  {
   "cell_type": "code",
   "execution_count": 155,
   "outputs": [],
   "source": [
    "callback_tensorboard = TensorBoard(log_dir='./23_logs/', histogram_freq=0, write_graph=False)\n",
    "callback_reduce_lr = ReduceLROnPlateau(monitor='val_loss', factor=0.1, min_lr=1e-4, patience=0,verbose=1)\n",
    "callbacks = [callback_early_stopping, callback_checkpoint,callback_tensorboard, callback_reduce_lr]\n"
   ],
   "metadata": {
    "collapsed": false,
    "pycharm": {
     "name": "#%%\n",
     "is_executing": false
    }
   }
  },
  {
   "cell_type": "code",
   "execution_count": 155,
   "outputs": [],
   "source": [],
   "metadata": {
    "collapsed": false,
    "pycharm": {
     "name": "#%%\n",
     "is_executing": false
    }
   }
  },
  {
   "cell_type": "code",
   "execution_count": 158,
   "outputs": [
    {
     "name": "stdout",
     "text": [
      "Epoch 1/20\n",
      "  1/100 [..............................] - ETA: 0s - loss: 0.0614Traceback (most recent call last):\n",
      "  File \"/Users/unajun/Library/Python/3.7/lib/python/site-packages/IPython/core/magics/execution.py\", line 1304, in time\n",
      "    out = eval(code, glob, local_ns)\n",
      "  File \"<timed eval>\", line 5, in <module>\n",
      "  File \"/usr/local/lib/python3.7/site-packages/tensorflow/python/util/deprecation.py\", line 324, in new_func\n",
      "    return func(*args, **kwargs)\n",
      "  File \"/usr/local/lib/python3.7/site-packages/tensorflow/python/keras/engine/training.py\", line 1479, in fit_generator\n",
      "    initial_epoch=initial_epoch)\n",
      "  File \"/usr/local/lib/python3.7/site-packages/tensorflow/python/keras/engine/training.py\", line 66, in _method_wrapper\n",
      "    return method(self, *args, **kwargs)\n",
      "  File \"/usr/local/lib/python3.7/site-packages/tensorflow/python/keras/engine/training.py\", line 855, in fit\n",
      "    callbacks.on_train_batch_end(step, logs)\n",
      "  File \"/usr/local/lib/python3.7/site-packages/tensorflow/python/keras/callbacks.py\", line 390, in on_train_batch_end\n",
      "    self._call_batch_hook(ModeKeys.TRAIN, 'end', batch, logs=logs)\n",
      "  File \"/usr/local/lib/python3.7/site-packages/tensorflow/python/keras/callbacks.py\", line 298, in _call_batch_hook\n",
      "    batch_hook(batch, logs)\n",
      "  File \"/usr/local/lib/python3.7/site-packages/tensorflow/python/keras/callbacks.py\", line 1981, in on_train_batch_end\n",
      "    lambda: self._log_trace_return_true(), lambda: False)  # pylint: disable=unnecessary-lambda\n",
      "  File \"/usr/local/lib/python3.7/site-packages/tensorflow/python/util/deprecation.py\", line 507, in new_func\n",
      "    return func(*args, **kwargs)\n",
      "  File \"/usr/local/lib/python3.7/site-packages/tensorflow/python/ops/control_flow_ops.py\", line 1205, in cond\n",
      "    result = true_fn()\n",
      "  File \"/usr/local/lib/python3.7/site-packages/tensorflow/python/keras/callbacks.py\", line 1981, in <lambda>\n",
      "    lambda: self._log_trace_return_true(), lambda: False)  # pylint: disable=unnecessary-lambda\n",
      "  File \"/usr/local/lib/python3.7/site-packages/tensorflow/python/keras/callbacks.py\", line 2062, in _log_trace_return_true\n",
      "    self._log_trace()\n",
      "  File \"/usr/local/lib/python3.7/site-packages/tensorflow/python/keras/callbacks.py\", line 2046, in _log_trace\n",
      "    profiler.stop()\n",
      "  File \"/usr/local/lib/python3.7/site-packages/tensorflow/python/profiler/profiler_v2.py\", line 109, in stop\n",
      "    _profiler.export_to_tb()\n",
      "KeyboardInterrupt\n",
      "\n",
      "During handling of the above exception, another exception occurred:\n",
      "\n",
      "Traceback (most recent call last):\n",
      "  File \"/Users/unajun/Library/Python/3.7/lib/python/site-packages/IPython/core/interactiveshell.py\", line 2044, in showtraceback\n",
      "    stb = value._render_traceback_()\n",
      "AttributeError: 'KeyboardInterrupt' object has no attribute '_render_traceback_'\n",
      "\n",
      "During handling of the above exception, another exception occurred:\n",
      "\n",
      "Traceback (most recent call last):\n",
      "  File \"/Users/unajun/Library/Python/3.7/lib/python/site-packages/IPython/core/ultratb.py\", line 1148, in get_records\n",
      "    return _fixed_getinnerframes(etb, number_of_lines_of_context, tb_offset)\n",
      "  File \"/Users/unajun/Library/Python/3.7/lib/python/site-packages/IPython/core/ultratb.py\", line 316, in wrapped\n",
      "    return f(*args, **kwargs)\n",
      "  File \"/Users/unajun/Library/Python/3.7/lib/python/site-packages/IPython/core/ultratb.py\", line 350, in _fixed_getinnerframes\n",
      "    records = fix_frame_records_filenames(inspect.getinnerframes(etb, context))\n",
      "  File \"/usr/local/Cellar/python/3.7.6_1/Frameworks/Python.framework/Versions/3.7/lib/python3.7/inspect.py\", line 1502, in getinnerframes\n",
      "    frameinfo = (tb.tb_frame,) + getframeinfo(tb, context)\n",
      "  File \"/usr/local/Cellar/python/3.7.6_1/Frameworks/Python.framework/Versions/3.7/lib/python3.7/inspect.py\", line 1460, in getframeinfo\n",
      "    filename = getsourcefile(frame) or getfile(frame)\n",
      "  File \"/usr/local/Cellar/python/3.7.6_1/Frameworks/Python.framework/Versions/3.7/lib/python3.7/inspect.py\", line 696, in getsourcefile\n",
      "    if getattr(getmodule(object, filename), '__loader__', None) is not None:\n",
      "  File \"/usr/local/Cellar/python/3.7.6_1/Frameworks/Python.framework/Versions/3.7/lib/python3.7/inspect.py\", line 732, in getmodule\n",
      "    for modname, module in list(sys.modules.items()):\n",
      "KeyboardInterrupt\n"
     ],
     "output_type": "stream"
    },
    {
     "name": "stderr",
     "text": [
      "ERROR:root:Internal Python error in the inspect module.\n",
      "Below is the traceback from this internal error.\n",
      "\n"
     ],
     "output_type": "stream"
    },
    {
     "traceback": [
      "\u001b[0;31m---------------------------------------------------------------------------\u001b[0m"
     ],
     "ename": "KeyboardInterrupt",
     "evalue": "",
     "output_type": "error"
    }
   ],
   "source": [
    "%%time\n",
    "model.fit_generator(generator=generator,\n",
    " epochs=20,\n",
    " steps_per_epoch=100,\n",
    " validation_data=validation_data,\n",
    " callbacks=callbacks)"
   ],
   "metadata": {
    "collapsed": false,
    "pycharm": {
     "name": "#%%\n",
     "is_executing": false
    }
   }
  },
  {
   "cell_type": "code",
   "execution_count": 159,
   "outputs": [
    {
     "name": "stdout",
     "text": [
      "Error trying to load checkpoint.\n",
      "Unable to open file (unable to open file: name = '23_checkpoint.keras', errno = 2, error message = 'No such file or directory', flags = 0, o_flags = 0)\n"
     ],
     "output_type": "stream"
    }
   ],
   "source": [
    "try:\n",
    "    model.load_weights(path_checkpoint)\n",
    "except Exception as error:\n",
    "    print(\"Error trying to load checkpoint.\")\n",
    "    print(error)"
   ],
   "metadata": {
    "collapsed": false,
    "pycharm": {
     "name": "#%%\n",
     "is_executing": false
    }
   }
  },
  {
   "cell_type": "code",
   "execution_count": null,
   "outputs": [],
   "source": [
    "result = model.evaluate(x=np.expand_dims(x_test_scaled, axis=0),\n",
    " y=np.expand_dims(y_test_scaled, axis=0))"
   ],
   "metadata": {
    "collapsed": false,
    "pycharm": {
     "name": "#%%\n"
    }
   }
  },
  {
   "cell_type": "code",
   "execution_count": 160,
   "outputs": [
    {
     "traceback": [
      "\u001b[0;31m---------------------------------------------------------------------------\u001b[0m",
      "\u001b[0;31mNameError\u001b[0m                                 Traceback (most recent call last)",
      "\u001b[0;32m<ipython-input-160-69a43056bd4e>\u001b[0m in \u001b[0;36m<module>\u001b[0;34m\u001b[0m\n\u001b[0;32m----> 1\u001b[0;31m \u001b[0mprint\u001b[0m\u001b[0;34m(\u001b[0m\u001b[0;34m\"loss (test-set):\"\u001b[0m\u001b[0;34m,\u001b[0m \u001b[0mresult\u001b[0m\u001b[0;34m)\u001b[0m\u001b[0;34m\u001b[0m\u001b[0;34m\u001b[0m\u001b[0m\n\u001b[0m\u001b[1;32m      2\u001b[0m \u001b[0;34m\u001b[0m\u001b[0m\n",
      "\u001b[0;31mNameError\u001b[0m: name 'result' is not defined"
     ],
     "ename": "NameError",
     "evalue": "name 'result' is not defined",
     "output_type": "error"
    }
   ],
   "source": [
    "\n",
    "print(\"loss (test-set):\", result)\n"
   ],
   "metadata": {
    "collapsed": false,
    "pycharm": {
     "name": "#%%\n",
     "is_executing": false
    }
   }
  }
 ],
 "metadata": {
  "kernelspec": {
   "display_name": "Python 3",
   "language": "python",
   "name": "python3"
  },
  "language_info": {
   "codemirror_mode": {
    "name": "ipython",
    "version": 2
   },
   "file_extension": ".py",
   "mimetype": "text/x-python",
   "name": "python",
   "nbconvert_exporter": "python",
   "pygments_lexer": "ipython2",
   "version": "2.7.6"
  },
  "pycharm": {
   "stem_cell": {
    "cell_type": "raw",
    "source": [],
    "metadata": {
     "collapsed": false
    }
   }
  }
 },
 "nbformat": 4,
 "nbformat_minor": 0
}