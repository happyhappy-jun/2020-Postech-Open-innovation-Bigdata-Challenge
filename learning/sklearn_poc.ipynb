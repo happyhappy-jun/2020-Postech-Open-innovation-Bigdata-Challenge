{
 "cells": [
  {
   "cell_type": "code",
   "execution_count": 3,
   "metadata": {
    "collapsed": true,
    "pycharm": {
     "is_executing": false
    }
   },
   "outputs": [],
   "source": [
    "import numpy as np\n",
    "from sklearn.metrics import make_scorer\n",
    "from sklearn.model_selection import StratifiedShuffleSplit, train_test_split, KFold, cross_val_score\n",
    "import pandas as pd\n",
    "import matplotlib.pyplot as plt\n",
    "import seaborn as sns"
   ]
  },
  {
   "cell_type": "code",
   "execution_count": 4,
   "outputs": [],
   "source": [
    "from sklearn.pipeline import Pipeline\n",
    "from sklearn.preprocessing import StandardScaler\n",
    "from sklearn.svm import SVR\n",
    "df = pd.read_csv(\"../data/datefrom1st.csv\")\n",
    "df = df.drop(['datetime', 'Unnamed: 0'], axis=1)\n",
    "df = df.astype({'difference': 'int32'})\n",
    "y = df['result']\n",
    "\n",
    "X = df.drop('result', axis=1)\n",
    "X_train, X_test, y_train, y_test = train_test_split( X, y, test_size=0.33, random_state=42)"
   ],
   "metadata": {
    "collapsed": false,
    "pycharm": {
     "name": "#%%\n",
     "is_executing": false
    }
   }
  },
  {
   "cell_type": "code",
   "execution_count": 5,
   "outputs": [],
   "source": [
    "corr = df.corr()"
   ],
   "metadata": {
    "collapsed": false,
    "pycharm": {
     "name": "#%%\n",
     "is_executing": false
    }
   }
  },
  {
   "cell_type": "code",
   "execution_count": 6,
   "outputs": [],
   "source": [
    "\n",
    "from sklearn.linear_model import LinearRegression\n",
    "from sklearn.linear_model import Lasso\n",
    "from sklearn.linear_model import ElasticNet\n",
    "from sklearn.tree import DecisionTreeRegressor\n",
    "from sklearn.neighbors import KNeighborsRegressor\n",
    "from sklearn.ensemble import GradientBoostingRegressor\n",
    "from xgboost import XGBRegressor"
   ],
   "metadata": {
    "collapsed": false,
    "pycharm": {
     "name": "#%%\n",
     "is_executing": false
    }
   }
  },
  {
   "cell_type": "code",
   "execution_count": 7,
   "outputs": [],
   "source": [
    "def MAPE(y_true, y_pred): \n",
    "    return np.mean(np.abs((y_true - y_pred) / y_true)) * 100\n",
    "\n"
   ],
   "metadata": {
    "collapsed": false,
    "pycharm": {
     "name": "#%%\n",
     "is_executing": false
    }
   }
  },
  {
   "cell_type": "code",
   "execution_count": 9,
   "outputs": [
    {
     "name": "stdout",
     "text": [
      "\n",
      "==ScaledLR==\n",
      "[+]neg_root_mean_squared_error\n",
      "-2.101628 (0.086105)\n",
      "[+]r2\n",
      "0.906249 (0.008209)\n",
      "[+]explained_variance\n",
      "0.906276 (0.008203)\n",
      "[+]neg_mean_absolute_error\n",
      "-1.196618 (0.025096)\n",
      "\n",
      "==ScaledSVR==\n",
      "[+]neg_root_mean_squared_error\n",
      "-1.784116 (0.103419)\n",
      "[+]r2\n",
      "0.932305 (0.008226)\n",
      "[+]explained_variance\n",
      "0.932325 (0.008230)\n",
      "[+]neg_mean_absolute_error\n",
      "-0.759324 (0.023347)\n",
      "\n",
      "==ScaledLASSO==\n",
      "[+]neg_root_mean_squared_error\n",
      "-2.402552 (0.059015)\n",
      "[+]r2\n",
      "0.877648 (0.006429)\n",
      "[+]explained_variance\n",
      "0.877669 (0.006430)\n",
      "[+]neg_mean_absolute_error\n",
      "-1.600232 (0.021680)\n",
      "\n",
      "==ScaledEN==\n",
      "[+]neg_root_mean_squared_error\n",
      "-3.038942 (0.047732)\n",
      "[+]r2\n",
      "0.804380 (0.004970)\n",
      "[+]explained_variance\n",
      "0.804426 (0.004973)\n",
      "[+]neg_mean_absolute_error\n",
      "-2.216858 (0.026504)\n",
      "\n",
      "==ScaledKNN==\n",
      "[+]neg_root_mean_squared_error\n",
      "-1.774588 (0.083280)\n",
      "[+]r2\n",
      "0.933133 (0.006503)\n",
      "[+]explained_variance\n",
      "0.933177 (0.006526)\n",
      "[+]neg_mean_absolute_error\n",
      "-0.819212 (0.026579)\n",
      "\n",
      "==ScaledCART==\n",
      "[+]neg_root_mean_squared_error\n",
      "-2.075226 (0.098994)\n",
      "[+]r2\n",
      "0.907474 (0.009927)\n",
      "[+]explained_variance\n",
      "0.907715 (0.009899)\n",
      "[+]neg_mean_absolute_error\n",
      "-0.898574 (0.038344)\n",
      "\n",
      "==ScaledGBM==\n",
      "[+]neg_root_mean_squared_error\n",
      "-1.669048 (0.076527)\n",
      "[+]r2\n",
      "0.940827 (0.005897)\n",
      "[+]explained_variance\n",
      "0.940852 (0.005872)\n",
      "[+]neg_mean_absolute_error\n",
      "-0.776198 (0.019709)\n",
      "\n",
      "==ScaledXG==\n",
      "[+]neg_root_mean_squared_error\n",
      "-1.378774 (0.050158)\n",
      "[+]r2\n",
      "0.959636 (0.003492)\n",
      "[+]explained_variance\n",
      "0.959642 (0.003491)\n",
      "[+]neg_mean_absolute_error\n",
      "-0.661096 (0.019460)\n"
     ],
     "output_type": "stream"
    }
   ],
   "source": [
    "# https://partrita.github.io/posts/regression-error/\n",
    "pipelines = []\n",
    "\n",
    "\n",
    "# pipelines.append(('ScaledLR', Pipeline([('Scaler', StandardScaler()),('LR',LinearRegression())])))\n",
    "pipelines.append(('ScaledSVR', Pipeline([('Scaler', StandardScaler()),('SVR', SVR())])))\n",
    "#pipelines.append(('ScaledLASSO', Pipeline([('Scaler', StandardScaler()),('LASSO', Lasso())])))\n",
    "# pipelines.append(('ScaledEN', Pipeline([('Scaler', StandardScaler()),('EN', ElasticNet())])))\n",
    "pipelines.append(('ScaledKNN', Pipeline([('Scaler', StandardScaler()),('KNN', KNeighborsRegressor())])))\n",
    "pipelines.append(('ScaledCART', Pipeline([('Scaler', StandardScaler()),('CART', DecisionTreeRegressor())])))\n",
    "pipelines.append(('ScaledGBM', Pipeline([('Scaler', StandardScaler()),('GBM', GradientBoostingRegressor())])))\n",
    "pipelines.append(('ScaledXG', Pipeline([('Scaler', StandardScaler()),('XG', XGBRegressor())])))\n",
    "\n",
    "\n",
    "\n",
    "results = [[]]\n",
    "idx = 0\n",
    "names = []\n",
    "scoring = ['neg_root_mean_squared_error', 'r2', 'neg_mean_absolute_error']\n",
    "for name, model in pipelines:\n",
    "    kfold = KFold(shuffle=True, n_splits=10, random_state=21)\n",
    "    cv_results = []\n",
    "    for s in scoring:\n",
    "        cv_results.append(cross_val_score(model, X_train, y_train, cv=kfold, scoring=s))\n",
    "    names.append(name)\n",
    "    print(\"\\n=={}==\".format(name))\n",
    "    for idx in range (len(cv_results)):\n",
    "        print(\"[+]{}\".format(scoring[idx]))\n",
    "        msg = \"%f (%f)\" %  (cv_results[idx].mean(), cv_results[idx].std())\n",
    "        print(msg)\n",
    "   \n",
    "\n"
   ],
   "metadata": {
    "collapsed": false,
    "pycharm": {
     "name": "#%%\n",
     "is_executing": false
    }
   }
  }
 ],
 "metadata": {
  "kernelspec": {
   "display_name": "Python 3",
   "language": "python",
   "name": "python3"
  },
  "language_info": {
   "codemirror_mode": {
    "name": "ipython",
    "version": 2
   },
   "file_extension": ".py",
   "mimetype": "text/x-python",
   "name": "python",
   "nbconvert_exporter": "python",
   "pygments_lexer": "ipython2",
   "version": "2.7.6"
  },
  "pycharm": {
   "stem_cell": {
    "cell_type": "raw",
    "source": [],
    "metadata": {
     "collapsed": false
    }
   }
  }
 },
 "nbformat": 4,
 "nbformat_minor": 0
}