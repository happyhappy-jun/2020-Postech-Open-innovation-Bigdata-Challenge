{
 "cells": [
  {
   "cell_type": "code",
   "execution_count": 58,
   "metadata": {
    "collapsed": true,
    "pycharm": {
     "is_executing": false
    }
   },
   "outputs": [],
   "source": [
    "import numpy as np\n",
    "from sklearn.model_selection import StratifiedShuffleSplit, train_test_split, KFold, cross_val_score\n",
    "import pandas as pd"
   ]
  },
  {
   "cell_type": "code",
   "execution_count": 19,
   "outputs": [],
   "source": [
    "from sklearn.pipeline import Pipeline\n",
    "from sklearn.preprocessing import StandardScaler\n",
    "df = pd.read_csv(\"../utils/generator/dataset/dataset_diff.csv\")\n",
    "df = df.drop('일시', axis=1)\n",
    "y = df['result']\n",
    "X = df.drop('result', axis=1)\n",
    "X_train, X_test, y_train, y_test = train_test_split( X, y, test_size=0.33, random_state=42)"
   ],
   "metadata": {
    "collapsed": false,
    "pycharm": {
     "name": "#%%\n",
     "is_executing": false
    }
   }
  },
  {
   "cell_type": "code",
   "execution_count": 20,
   "outputs": [],
   "source": [
    "\n",
    "from sklearn.linear_model import LinearRegression\n",
    "from sklearn.linear_model import Lasso\n",
    "from sklearn.linear_model import ElasticNet\n",
    "from sklearn.tree import DecisionTreeRegressor\n",
    "from sklearn.neighbors import KNeighborsRegressor\n",
    "from sklearn.ensemble import GradientBoostingRegressor"
   ],
   "metadata": {
    "collapsed": false,
    "pycharm": {
     "name": "#%%\n",
     "is_executing": false
    }
   }
  },
  {
   "cell_type": "code",
   "execution_count": 37,
   "outputs": [
    {
     "name": "stderr",
     "text": [
      "/usr/local/lib/python3.7/site-packages/sklearn/model_selection/_split.py:297: FutureWarning: Setting a random_state has no effect since shuffle is False. This will raise an error in 0.24. You should leave random_state to its default (None), or set shuffle=True.\n",
      "  FutureWarning\n",
      "/usr/local/lib/python3.7/site-packages/sklearn/model_selection/_split.py:297: FutureWarning: Setting a random_state has no effect since shuffle is False. This will raise an error in 0.24. You should leave random_state to its default (None), or set shuffle=True.\n",
      "  FutureWarning\n",
      "/usr/local/lib/python3.7/site-packages/sklearn/model_selection/_split.py:297: FutureWarning: Setting a random_state has no effect since shuffle is False. This will raise an error in 0.24. You should leave random_state to its default (None), or set shuffle=True.\n",
      "  FutureWarning\n",
      "/usr/local/lib/python3.7/site-packages/sklearn/model_selection/_split.py:297: FutureWarning: Setting a random_state has no effect since shuffle is False. This will raise an error in 0.24. You should leave random_state to its default (None), or set shuffle=True.\n",
      "  FutureWarning\n",
      "/usr/local/lib/python3.7/site-packages/sklearn/model_selection/_split.py:297: FutureWarning: Setting a random_state has no effect since shuffle is False. This will raise an error in 0.24. You should leave random_state to its default (None), or set shuffle=True.\n",
      "  FutureWarning\n",
      "/usr/local/lib/python3.7/site-packages/sklearn/model_selection/_split.py:297: FutureWarning: Setting a random_state has no effect since shuffle is False. This will raise an error in 0.24. You should leave random_state to its default (None), or set shuffle=True.\n",
      "  FutureWarning\n"
     ],
     "output_type": "stream"
    },
    {
     "name": "stdout",
     "text": [
      "==ScaledLR==\n",
      "[+]neg_root_mean_squared_error\n",
      "-2.104776 (0.132958)\n",
      "[+]r2\n",
      "0.905598 (0.013326)\n",
      "[+]explained_variance\n",
      "0.905644 (0.013305)\n",
      "==ScaledLASSO==\n",
      "[+]neg_root_mean_squared_error\n",
      "-2.401831 (0.091659)\n",
      "[+]r2\n",
      "0.877489 (0.010028)\n",
      "[+]explained_variance\n",
      "0.877573 (0.010006)\n",
      "==ScaledEN==\n",
      "[+]neg_root_mean_squared_error\n",
      "-3.038641 (0.076895)\n",
      "[+]r2\n",
      "0.804160 (0.009237)\n",
      "[+]explained_variance\n",
      "0.804317 (0.009181)\n",
      "==ScaledKNN==\n",
      "[+]neg_root_mean_squared_error\n",
      "-1.833678 (0.110991)\n",
      "[+]r2\n",
      "0.928376 (0.009619)\n",
      "[+]explained_variance\n",
      "0.928460 (0.009651)\n",
      "==ScaledCART==\n",
      "[+]neg_root_mean_squared_error\n",
      "-2.329668 (0.128870)\n",
      "[+]r2\n",
      "0.883764 (0.014387)\n",
      "[+]explained_variance\n",
      "0.882873 (0.011587)\n",
      "==ScaledGBM==\n",
      "[+]neg_root_mean_squared_error\n",
      "-1.770464 (0.141930)\n",
      "[+]r2\n",
      "0.933004 (0.012183)\n",
      "[+]explained_variance\n",
      "0.932986 (0.012176)\n"
     ],
     "output_type": "stream"
    }
   ],
   "source": [
    "pipelines = []\n",
    "pipelines.append(('ScaledLR', Pipeline([('Scaler', StandardScaler()),('LR',LinearRegression())])))\n",
    "pipelines.append(('ScaledLASSO', Pipeline([('Scaler', StandardScaler()),('LASSO', Lasso())])))\n",
    "pipelines.append(('ScaledEN', Pipeline([('Scaler', StandardScaler()),('EN', ElasticNet())])))\n",
    "pipelines.append(('ScaledKNN', Pipeline([('Scaler', StandardScaler()),('KNN', KNeighborsRegressor())])))\n",
    "pipelines.append(('ScaledCART', Pipeline([('Scaler', StandardScaler()),('CART', DecisionTreeRegressor())])))\n",
    "pipelines.append(('ScaledGBM', Pipeline([('Scaler', StandardScaler()),('GBM', GradientBoostingRegressor())])))\n",
    "\n",
    "results = [[]]\n",
    "idx = 0\n",
    "names = []\n",
    "scoring = ['neg_root_mean_squared_error', 'r2', 'explained_variance']\n",
    "for name, model in pipelines:\n",
    "    kfold = KFold(n_splits=10, random_state=21)\n",
    "    cv_results = []\n",
    "    cv_results.append(cross_val_score(model, X_train, y_train, cv=kfold, scoring='neg_root_mean_squared_error'))\n",
    "    cv_results.append(cross_val_score(model, X_train, y_train, cv=kfold, scoring='r2'))\n",
    "    cv_results.append(cross_val_score(model, X_train, y_train, cv=kfold, scoring='explained_variance'))\n",
    "    # for res in cv_results:\n",
    "    #     results[idx].append(res)\n",
    "    # idx+=1\n",
    "    names.append(name)\n",
    "    print(\"=={}==\".format(name))\n",
    "    for idx in range (len(cv_results)):\n",
    "        print(\"[+]{}\".format(scoring[idx]))\n",
    "        msg = \"%f (%f)\" %  (cv_results[idx].mean(), cv_results[idx].std())\n",
    "        print(msg)\n",
    "   \n"
   ],
   "metadata": {
    "collapsed": false,
    "pycharm": {
     "name": "#%%\n",
     "is_executing": false
    }
   }
  },
  {
   "cell_type": "code",
   "execution_count": 94,
   "outputs": [
    {
     "data": {
      "text/plain": "              datetime  result  temperature  percipitation  wind_degree  \\\n0  2019-07-01 00:00:00     0.0    23.273333            0.0   216.073333   \n1  2019-07-01 00:15:00     0.0    23.200000            0.0   225.486667   \n2  2019-07-01 00:30:00     0.0    23.200000            0.0   223.140000   \n3  2019-07-01 00:45:00     0.0    23.200000            0.0   252.066667   \n4  2019-07-01 01:00:00     0.0    23.200000            0.0   230.933333   \n\n   wind_speed  air_pressure  sea_level_pressure   humidity  solar_radiation  \\\n0    1.193333    997.380000         1003.880000  84.453333              0.0   \n1    1.306667    997.266667         1003.766667  84.853333              0.0   \n2    0.646667    997.200000         1003.700000  85.280000              0.0   \n3    1.053333    997.200000         1003.700000  85.560000              0.0   \n4    0.973333    997.133333         1003.633333  85.740000              0.0   \n\n   solar_intensity  \n0              0.0  \n1              0.0  \n2              0.0  \n3              0.0  \n4              0.0  ",
      "text/html": "<div>\n<style scoped>\n    .dataframe tbody tr th:only-of-type {\n        vertical-align: middle;\n    }\n\n    .dataframe tbody tr th {\n        vertical-align: top;\n    }\n\n    .dataframe thead th {\n        text-align: right;\n    }\n</style>\n<table border=\"1\" class=\"dataframe\">\n  <thead>\n    <tr style=\"text-align: right;\">\n      <th></th>\n      <th>datetime</th>\n      <th>result</th>\n      <th>temperature</th>\n      <th>percipitation</th>\n      <th>wind_degree</th>\n      <th>wind_speed</th>\n      <th>air_pressure</th>\n      <th>sea_level_pressure</th>\n      <th>humidity</th>\n      <th>solar_radiation</th>\n      <th>solar_intensity</th>\n    </tr>\n  </thead>\n  <tbody>\n    <tr>\n      <th>0</th>\n      <td>2019-07-01 00:00:00</td>\n      <td>0.0</td>\n      <td>23.273333</td>\n      <td>0.0</td>\n      <td>216.073333</td>\n      <td>1.193333</td>\n      <td>997.380000</td>\n      <td>1003.880000</td>\n      <td>84.453333</td>\n      <td>0.0</td>\n      <td>0.0</td>\n    </tr>\n    <tr>\n      <th>1</th>\n      <td>2019-07-01 00:15:00</td>\n      <td>0.0</td>\n      <td>23.200000</td>\n      <td>0.0</td>\n      <td>225.486667</td>\n      <td>1.306667</td>\n      <td>997.266667</td>\n      <td>1003.766667</td>\n      <td>84.853333</td>\n      <td>0.0</td>\n      <td>0.0</td>\n    </tr>\n    <tr>\n      <th>2</th>\n      <td>2019-07-01 00:30:00</td>\n      <td>0.0</td>\n      <td>23.200000</td>\n      <td>0.0</td>\n      <td>223.140000</td>\n      <td>0.646667</td>\n      <td>997.200000</td>\n      <td>1003.700000</td>\n      <td>85.280000</td>\n      <td>0.0</td>\n      <td>0.0</td>\n    </tr>\n    <tr>\n      <th>3</th>\n      <td>2019-07-01 00:45:00</td>\n      <td>0.0</td>\n      <td>23.200000</td>\n      <td>0.0</td>\n      <td>252.066667</td>\n      <td>1.053333</td>\n      <td>997.200000</td>\n      <td>1003.700000</td>\n      <td>85.560000</td>\n      <td>0.0</td>\n      <td>0.0</td>\n    </tr>\n    <tr>\n      <th>4</th>\n      <td>2019-07-01 01:00:00</td>\n      <td>0.0</td>\n      <td>23.200000</td>\n      <td>0.0</td>\n      <td>230.933333</td>\n      <td>0.973333</td>\n      <td>997.133333</td>\n      <td>1003.633333</td>\n      <td>85.740000</td>\n      <td>0.0</td>\n      <td>0.0</td>\n    </tr>\n  </tbody>\n</table>\n</div>"
     },
     "metadata": {},
     "output_type": "execute_result",
     "execution_count": 94
    }
   ],
   "source": [
    "df = pd.read_csv(\"../utils/generator/dataset/dataset_diff.csv\")\n",
    "\n",
    "df.rename(columns={'일시':'datetime'}, inplace=True)\n",
    "df.head(5)"
   ],
   "metadata": {
    "collapsed": false,
    "pycharm": {
     "name": "#%%\n",
     "is_executing": false
    }
   }
  },
  {
   "cell_type": "code",
   "execution_count": 95,
   "outputs": [
    {
     "data": {
      "text/plain": "Timestamp('2019-07-01 00:15:00')"
     },
     "metadata": {},
     "output_type": "execute_result",
     "execution_count": 95
    }
   ],
   "source": [
    "type(pd.to_datetime(df.datetime[1], infer_datetime_format=True)) \n",
    "pd.to_datetime(df.datetime[1], infer_datetime_format=True)\n",
    "\n",
    "\n"
   ],
   "metadata": {
    "collapsed": false,
    "pycharm": {
     "name": "#%%\n",
     "is_executing": false
    }
   }
  },
  {
   "cell_type": "code",
   "execution_count": 96,
   "outputs": [],
   "source": [
    "df.datetime = pd.to_datetime(df.datetime, infer_datetime_format=True)"
   ],
   "metadata": {
    "collapsed": false,
    "pycharm": {
     "name": "#%%\n",
     "is_executing": false
    }
   }
  },
  {
   "cell_type": "code",
   "execution_count": 97,
   "outputs": [],
   "source": [
    "df[\"difference\"] = df[\"datetime\"].sub(pd.to_datetime(\"2019-01-01\", infer_datetime_format=True), axis=0)/ np.timedelta64(1, 'D')"
   ],
   "metadata": {
    "collapsed": false,
    "pycharm": {
     "name": "#%%\n",
     "is_executing": false
    }
   }
  },
  {
   "cell_type": "code",
   "execution_count": 109,
   "outputs": [
    {
     "name": "stderr",
     "text": [
      "/usr/local/lib/python3.7/site-packages/pandas/core/indexing.py:205: SettingWithCopyWarning: \n",
      "A value is trying to be set on a copy of a slice from a DataFrame\n",
      "\n",
      "See the caveats in the documentation: http://pandas.pydata.org/pandas-docs/stable/user_guide/indexing.html#returning-a-view-versus-a-copy\n",
      "  self._setitem_with_indexer(indexer, value)\n"
     ],
     "output_type": "stream"
    }
   ],
   "source": [
    "# df.loc[df.difference >= 365] = df.loc[df.difference >= 365].difference - 365\n",
    "\n",
    "for x in range(len(df.difference)):\n",
    "    if df.difference.iloc[x] > 365:\n",
    "        df.difference.iloc[x] -= 365 "
   ],
   "metadata": {
    "collapsed": false,
    "pycharm": {
     "name": "#%%\n",
     "is_executing": false
    }
   }
  },
  {
   "cell_type": "code",
   "execution_count": 111,
   "outputs": [],
   "source": [
    "df.to_csv(\"datefrom1st.csv\")\n"
   ],
   "metadata": {
    "collapsed": false,
    "pycharm": {
     "name": "#%%\n",
     "is_executing": false
    }
   }
  }
 ],
 "metadata": {
  "kernelspec": {
   "display_name": "Python 3",
   "language": "python",
   "name": "python3"
  },
  "language_info": {
   "codemirror_mode": {
    "name": "ipython",
    "version": 2
   },
   "file_extension": ".py",
   "mimetype": "text/x-python",
   "name": "python",
   "nbconvert_exporter": "python",
   "pygments_lexer": "ipython2",
   "version": "2.7.6"
  },
  "pycharm": {
   "stem_cell": {
    "cell_type": "raw",
    "source": [],
    "metadata": {
     "collapsed": false
    }
   }
  }
 },
 "nbformat": 4,
 "nbformat_minor": 0
}