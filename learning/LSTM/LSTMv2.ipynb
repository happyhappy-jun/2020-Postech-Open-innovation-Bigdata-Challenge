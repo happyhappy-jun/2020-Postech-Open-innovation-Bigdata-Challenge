{
 "cells": [
  {
   "cell_type": "code",
   "execution_count": 3,
   "metadata": {
    "collapsed": true,
    "pycharm": {
     "is_executing": false
    }
   },
   "outputs": [],
   "source": [
    "\n",
    "\n",
    "import tensorflow as tf\n",
    "import matplotlib as mpl\n",
    "import matplotlib.pyplot as plt\n",
    "import numpy as np\n",
    "import os\n",
    "from sklearn.preprocessing import MinMaxScaler\n",
    "import pandas as pd\n",
    "from keras.callbacks import EarlyStopping, ModelCheckpoint, TensorBoard, ReduceLROnPlateau\n",
    "\n",
    "mpl.rcParams['figure.figsize'] = (8, 6)\n",
    "mpl.rcParams['axes.grid'] = False\n",
    "tf.random.set_seed(10)\n",
    "BATCH_SIZE = 128\n",
    "BUFFER_SIZE = 10000\n",
    "EPOCH = 2\n",
    "past_history = 4 * 24 * 10\n",
    "future_target = 4 * 24\n",
    "STEP = 4\n",
    "SHIFT_STEP = 1"
   ]
  },
  {
   "cell_type": "code",
   "execution_count": 16,
   "outputs": [],
   "source": [
    "def root_mean_squared_error_loss(y_true, y_pred):\n",
    "    return tf.keras.backend.sqrt(tf.keras.losses.MSE(y_true, y_pred))\n",
    "\n",
    "\n",
    "tf.random.set_seed(10)\n",
    "raw_df = pd.read_csv(\"../../data/datefrom1st_revised.csv\")\n",
    "raw_df.index = raw_df.datetime\n",
    "\n",
    "df = raw_df\n",
    "\n",
    "df = df.drop(\n",
    "    [\"Unnamed: 0\", 'datetime', 'percipitation', 'air_pressure', 'sea_level_pressure',\n",
    "     'wind_degree'], axis=1)\n",
    "df[\"difference\"] = df.astype('int32')\n",
    "\n",
    "scaler = MinMaxScaler().fit(df)\n",
    "target_X = df.loc[\"2020-01-31 00:00:00\":\"2020-01-31 23:45:00\"]\n",
    "\n",
    "\n",
    "df.drop(df.loc[(df.index > '2020-01-31 00:00:00') & (df.index < '2020-02-01 00:00:00')].index, inplace=True)\n",
    "df.drop(df.loc[(df.index > '2020-03-31 00:00:00') & (df.index < '2020-04-01 00:00:00')].index, inplace=True)\n",
    "df.drop(df.loc[(df.index > '2020-05-31 00:00:00') & (df.index < '2020-06-01 00:00:00')].index, inplace=True)\n",
    "df = df.fillna(0)"
   ],
   "metadata": {
    "collapsed": false,
    "pycharm": {
     "name": "#%%\n",
     "is_executing": false
    }
   }
  },
  {
   "cell_type": "code",
   "execution_count": 17,
   "outputs": [
    {
     "data": {
      "text/plain": "                     result  temperature  wind_speed   humidity  \\\ndatetime                                                          \n2020-01-31 00:00:00     0.0     0.000000    0.000000   0.000000   \n2020-01-31 00:15:00     0.0     0.000000    0.000000   0.000000   \n2020-01-31 00:30:00     0.0     4.866667    1.500000  59.900000   \n2020-01-31 00:45:00     0.0     4.673333    1.553333  61.546667   \n2020-01-31 01:00:00     0.0     4.446667    1.346667  62.140000   \n...                     ...          ...         ...        ...   \n2020-01-31 22:45:00     0.0     2.140000    0.340000  64.766667   \n2020-01-31 23:00:00     0.0     2.186667    0.606667  64.786667   \n2020-01-31 23:15:00     0.0     2.160000    0.626667  64.766667   \n2020-01-31 23:30:00     0.0     1.840000    0.606667  65.913333   \n2020-01-31 23:45:00     0.0     1.693333    0.940000  66.733333   \n\n                     solar_radiation  solar_intensity  difference  \ndatetime                                                           \n2020-01-31 00:00:00              0.0              0.0           0  \n2020-01-31 00:15:00              0.0              0.0           0  \n2020-01-31 00:30:00              0.0              0.0           0  \n2020-01-31 00:45:00              0.0              0.0           0  \n2020-01-31 01:00:00              0.0              0.0           0  \n...                              ...              ...         ...  \n2020-01-31 22:45:00              0.0              0.0           0  \n2020-01-31 23:00:00              0.0              0.0           0  \n2020-01-31 23:15:00              0.0              0.0           0  \n2020-01-31 23:30:00              0.0              0.0           0  \n2020-01-31 23:45:00              0.0              0.0           0  \n\n[96 rows x 7 columns]",
      "text/html": "<div>\n<style scoped>\n    .dataframe tbody tr th:only-of-type {\n        vertical-align: middle;\n    }\n\n    .dataframe tbody tr th {\n        vertical-align: top;\n    }\n\n    .dataframe thead th {\n        text-align: right;\n    }\n</style>\n<table border=\"1\" class=\"dataframe\">\n  <thead>\n    <tr style=\"text-align: right;\">\n      <th></th>\n      <th>result</th>\n      <th>temperature</th>\n      <th>wind_speed</th>\n      <th>humidity</th>\n      <th>solar_radiation</th>\n      <th>solar_intensity</th>\n      <th>difference</th>\n    </tr>\n    <tr>\n      <th>datetime</th>\n      <th></th>\n      <th></th>\n      <th></th>\n      <th></th>\n      <th></th>\n      <th></th>\n      <th></th>\n    </tr>\n  </thead>\n  <tbody>\n    <tr>\n      <th>2020-01-31 00:00:00</th>\n      <td>0.0</td>\n      <td>0.000000</td>\n      <td>0.000000</td>\n      <td>0.000000</td>\n      <td>0.0</td>\n      <td>0.0</td>\n      <td>0</td>\n    </tr>\n    <tr>\n      <th>2020-01-31 00:15:00</th>\n      <td>0.0</td>\n      <td>0.000000</td>\n      <td>0.000000</td>\n      <td>0.000000</td>\n      <td>0.0</td>\n      <td>0.0</td>\n      <td>0</td>\n    </tr>\n    <tr>\n      <th>2020-01-31 00:30:00</th>\n      <td>0.0</td>\n      <td>4.866667</td>\n      <td>1.500000</td>\n      <td>59.900000</td>\n      <td>0.0</td>\n      <td>0.0</td>\n      <td>0</td>\n    </tr>\n    <tr>\n      <th>2020-01-31 00:45:00</th>\n      <td>0.0</td>\n      <td>4.673333</td>\n      <td>1.553333</td>\n      <td>61.546667</td>\n      <td>0.0</td>\n      <td>0.0</td>\n      <td>0</td>\n    </tr>\n    <tr>\n      <th>2020-01-31 01:00:00</th>\n      <td>0.0</td>\n      <td>4.446667</td>\n      <td>1.346667</td>\n      <td>62.140000</td>\n      <td>0.0</td>\n      <td>0.0</td>\n      <td>0</td>\n    </tr>\n    <tr>\n      <th>...</th>\n      <td>...</td>\n      <td>...</td>\n      <td>...</td>\n      <td>...</td>\n      <td>...</td>\n      <td>...</td>\n      <td>...</td>\n    </tr>\n    <tr>\n      <th>2020-01-31 22:45:00</th>\n      <td>0.0</td>\n      <td>2.140000</td>\n      <td>0.340000</td>\n      <td>64.766667</td>\n      <td>0.0</td>\n      <td>0.0</td>\n      <td>0</td>\n    </tr>\n    <tr>\n      <th>2020-01-31 23:00:00</th>\n      <td>0.0</td>\n      <td>2.186667</td>\n      <td>0.606667</td>\n      <td>64.786667</td>\n      <td>0.0</td>\n      <td>0.0</td>\n      <td>0</td>\n    </tr>\n    <tr>\n      <th>2020-01-31 23:15:00</th>\n      <td>0.0</td>\n      <td>2.160000</td>\n      <td>0.626667</td>\n      <td>64.766667</td>\n      <td>0.0</td>\n      <td>0.0</td>\n      <td>0</td>\n    </tr>\n    <tr>\n      <th>2020-01-31 23:30:00</th>\n      <td>0.0</td>\n      <td>1.840000</td>\n      <td>0.606667</td>\n      <td>65.913333</td>\n      <td>0.0</td>\n      <td>0.0</td>\n      <td>0</td>\n    </tr>\n    <tr>\n      <th>2020-01-31 23:45:00</th>\n      <td>0.0</td>\n      <td>1.693333</td>\n      <td>0.940000</td>\n      <td>66.733333</td>\n      <td>0.0</td>\n      <td>0.0</td>\n      <td>0</td>\n    </tr>\n  </tbody>\n</table>\n<p>96 rows × 7 columns</p>\n</div>"
     },
     "metadata": {},
     "output_type": "execute_result",
     "execution_count": 17
    }
   ],
   "source": [
    "target_X\n",
    "#"
   ],
   "metadata": {
    "collapsed": false,
    "pycharm": {
     "name": "#%%\n",
     "is_executing": false
    }
   }
  },
  {
   "cell_type": "code",
   "execution_count": 18,
   "outputs": [],
   "source": [
    "TRAIN_SPLIT = int(len(df.index) * 0.8)\n",
    "\n",
    "values = scaler.transform(df)\n",
    "target_X = scaler.transform(target_X)"
   ],
   "metadata": {
    "collapsed": false,
    "pycharm": {
     "name": "#%%\n",
     "is_executing": false
    }
   }
  },
  {
   "cell_type": "code",
   "execution_count": 19,
   "outputs": [],
   "source": [
    "train = values[:TRAIN_SPLIT, :]\n",
    "test = values[TRAIN_SPLIT:, :]\n",
    "# split into input and outputs\n",
    "train_X, train_y = train[:, 1:], train[:, 0]\n",
    "test_X, test_y = test[:, 1:], test[:, 0]\n",
    "target_X = target_X[:, 1:]"
   ],
   "metadata": {
    "collapsed": false,
    "pycharm": {
     "name": "#%%\n",
     "is_executing": false
    }
   }
  },
  {
   "cell_type": "code",
   "execution_count": 20,
   "outputs": [
    {
     "name": "stdout",
     "text": [
      "(27880, 1, 6) (27880,) (6971, 1, 6) (6971,)\n",
      "(96, 1, 6)\n"
     ],
     "output_type": "stream"
    }
   ],
   "source": [
    "train_X = train_X.reshape((train_X.shape[0], 1, train_X.shape[1]))\n",
    "test_X = test_X.reshape((test_X.shape[0], 1, test_X.shape[1]))\n",
    "target_X = target_X.reshape((target_X.shape[0], 1, target_X.shape[1]))\n",
    "print(train_X.shape, train_y.shape, test_X.shape, test_y.shape)\n",
    "print(target_X.shape)"
   ],
   "metadata": {
    "collapsed": false,
    "pycharm": {
     "name": "#%%\n",
     "is_executing": false
    }
   }
  },
  {
   "cell_type": "code",
   "execution_count": 21,
   "outputs": [],
   "source": [
    "def plot_train_history(history, title):\n",
    "    loss = history.history['loss']\n",
    "    val_loss = history.history['val_loss']\n",
    "\n",
    "    epochs = range(len(loss))\n",
    "\n",
    "    plt.figure()\n",
    "\n",
    "    plt.plot(epochs, loss, 'b', label='Training loss')\n",
    "    plt.plot(epochs, val_loss, 'r', label='Validation loss')\n",
    "    plt.title(title)\n",
    "    plt.legend()\n",
    "\n",
    "    plt.show()\n"
   ],
   "metadata": {
    "collapsed": false,
    "pycharm": {
     "name": "#%%\n",
     "is_executing": false
    }
   }
  },
  {
   "cell_type": "code",
   "execution_count": 22,
   "outputs": [],
   "source": [
    "def show_plot(plot_data, delta, title):\n",
    "    labels = ['History', 'True Future', 'Model Prediction']\n",
    "    marker = ['.-', 'rx', 'go']\n",
    "    time_steps = create_time_steps(plot_data[0].shape[0])\n",
    "    if delta:\n",
    "        future = delta\n",
    "    else:\n",
    "        future = 0\n",
    "\n",
    "    plt.title(title)\n",
    "    for i, x in enumerate(plot_data):\n",
    "        if i:\n",
    "            plt.plot(future, plot_data[i], marker[i], markersize=10,\n",
    "                     label=labels[i])\n",
    "        else:\n",
    "            plt.plot(time_steps, plot_data[i].flatten(), marker[i], label=labels[i])\n",
    "    plt.legend()\n",
    "    plt.xlim([time_steps[0], (future + 5) * 2])\n",
    "    plt.xlabel('Time-Step')\n",
    "    return plt\n",
    "\n",
    "\n",
    "def create_time_steps(length):\n",
    "    return list(range(-length, 0))\n"
   ],
   "metadata": {
    "collapsed": false,
    "pycharm": {
     "name": "#%%\n",
     "is_executing": false
    }
   }
  },
  {
   "cell_type": "code",
   "execution_count": 23,
   "outputs": [],
   "source": [
    "def multi_step_plot(history, true_future, prediction):\n",
    "    plt.figure(figsize=(12, 6))\n",
    "    num_in = create_time_steps(len(history))\n",
    "    num_out = len(true_future)\n",
    "\n",
    "    plt.plot(num_in, np.array(history[:, 1]), label='History')\n",
    "    plt.plot(np.arange(num_out) / STEP, np.array(true_future), 'bo',\n",
    "             label='True Future')\n",
    "    if prediction.any():\n",
    "        plt.plot(np.arange(num_out) / STEP, np.array(prediction), 'ro',\n",
    "                 label='Predicted Future')\n",
    "    plt.legend(loc='upper left')\n",
    "    plt.show()\n",
    "    plt.savefig(\"output.png\")\n"
   ],
   "metadata": {
    "collapsed": false,
    "pycharm": {
     "name": "#%%\n",
     "is_executing": false
    }
   }
  },
  {
   "cell_type": "code",
   "execution_count": 24,
   "outputs": [],
   "source": [
    "def fit_by_batch(X, y, batch_size):\n",
    "    n_batches_for_epoch = X.shape[0]//batch_size\n",
    "    for i in range(n_batches_for_epoch):\n",
    "        index_batch = range(X.shape[0])[batch_size*i:batch_size*(i+1)]\n",
    "        X_batch =X[index_batch][0].toarray()[0] #from sparse to array\n",
    "        X_batch=X_batch.reshape(1,X_batch.shape[0],1 ) # to 3d array\n",
    "        y_batch = y[index_batch,][0]\n",
    "        yield(np.array(X_batch),y_batch)\n",
    "\n",
    "\n",
    "import tensorflow as tf\n",
    "from tensorflow.keras.layers import RepeatVector\n",
    "\n",
    "multi_step_model = tf.keras.models.Sequential()\n",
    "multi_step_model.add(tf.keras.layers.GRU(300, \n",
    "                                          return_sequences=True,\n",
    "                                          input_shape=(train_X.shape[1], train_X.shape[2])))\n",
    "multi_step_model.add(tf.keras.layers.ReLU())\n",
    "multi_step_model.add(tf.keras.layers.Dense(300))\n",
    "multi_step_model.add(tf.keras.layers.LeakyReLU())\n",
    "multi_step_model.add(tf.keras.layers.Dense(1))"
   ],
   "metadata": {
    "collapsed": false,
    "pycharm": {
     "name": "#%%\n",
     "is_executing": false
    }
   }
  },
  {
   "cell_type": "code",
   "execution_count": 25,
   "outputs": [
    {
     "name": "stdout",
     "text": [
      "Model: \"sequential\"\n",
      "_________________________________________________________________\n",
      "Layer (type)                 Output Shape              Param #   \n",
      "=================================================================\n",
      "gru (GRU)                    (None, 1, 300)            277200    \n",
      "_________________________________________________________________\n",
      "re_lu (ReLU)                 (None, 1, 300)            0         \n",
      "_________________________________________________________________\n",
      "dense (Dense)                (None, 1, 300)            90300     \n",
      "_________________________________________________________________\n",
      "leaky_re_lu (LeakyReLU)      (None, 1, 300)            0         \n",
      "_________________________________________________________________\n",
      "dense_1 (Dense)              (None, 1, 1)              301       \n",
      "=================================================================\n",
      "Total params: 367,801\n",
      "Trainable params: 367,801\n",
      "Non-trainable params: 0\n",
      "_________________________________________________________________\n"
     ],
     "output_type": "stream"
    }
   ],
   "source": [
    "multi_step_model.summary()"
   ],
   "metadata": {
    "collapsed": false,
    "pycharm": {
     "name": "#%%\n",
     "is_executing": false
    }
   }
  },
  {
   "cell_type": "code",
   "execution_count": 26,
   "outputs": [
    {
     "name": "stdout",
     "text": [
      "[+] Available GPUs\n",
      "[]\n",
      "[+] Available multiple GPU not found... Just use CPU! XD\n",
      "Epoch 1/2\n",
      "\n",
      "Epoch 00001: val_loss improved from inf to 0.00011, saving model to ../23_checkpoint.keras\n",
      "109/109 - 1s - loss: 0.0040 - val_loss: 1.0777e-04 - lr: 0.0010\n",
      "Epoch 2/2\n",
      "\n",
      "Epoch 00002: val_loss improved from 0.00011 to 0.00007, saving model to ../23_checkpoint.keras\n",
      "\n",
      "Epoch 00002: ReduceLROnPlateau reducing learning rate to 0.000800000037997961.\n",
      "109/109 - 1s - loss: 6.7761e-05 - val_loss: 6.6739e-05 - lr: 0.0010\n"
     ],
     "output_type": "stream"
    },
    {
     "data": {
      "text/plain": "<Figure size 576x432 with 1 Axes>",
      "image/png": "[encoded data removed]"
     },
     "metadata": {
      "needs_background": "light"
     },
     "output_type": "display_data"
    },
    {
     "data": {
      "text/plain": "<Figure size 576x432 with 0 Axes>"
     },
     "metadata": {},
     "output_type": "display_data"
    }
   ],
   "source": [
    "from matplotlib import pyplot\n",
    "from tensorflow.keras.utils import multi_gpu_model\n",
    "from tensorflow.python.client import device_lib\n",
    "\n",
    "EVALUATION_INTERVAL = 200\n",
    "\n",
    "\n",
    "def get_available_gpus():\n",
    "    local_device_protos = device_lib.list_local_devices()\n",
    "    return [x.name for x in local_device_protos if x.device_type == 'GPU']\n",
    "\n",
    "\n",
    "def get_gpu_num():\n",
    "    return len(get_available_gpus())\n",
    "\n",
    "\n",
    "path_checkpoint = '../23_checkpoint.keras'\n",
    "callback_checkpoint = ModelCheckpoint(filepath=path_checkpoint,\n",
    "                                      monitor='val_loss',\n",
    "                                      verbose=1,\n",
    "                                      save_weights_only=True,\n",
    "                                      save_best_only=True)\n",
    "\n",
    "callback_early_stopping = EarlyStopping(monitor='val_loss', patience=80, verbose=1)\n",
    "\n",
    "callback_tensorboard = TensorBoard(log_dir='../23_logs/', histogram_freq=0, write_graph=False)\n",
    "callback_reduce_lr = ReduceLROnPlateau(monitor='val_loss', factor=0.8, min_lr=1e-5, patience=0,verbose=1)\n",
    "callbacks = [callback_early_stopping, callback_checkpoint, callback_tensorboard, callback_reduce_lr]\n",
    "\n",
    "print(f\"[+] Available GPUs\")\n",
    "print(get_available_gpus())\n",
    "\n",
    "if get_gpu_num() < 2:\n",
    "    print(f\"[+] Available multiple GPU not found... Just use CPU! XD\")\n",
    "else:\n",
    "    print(f\"[+] {get_gpu_num()} GPUs found! Setting to GPU model...\")\n",
    "    multi_step_model = multi_gpu_model(multi_step_model, gpus=get_gpu_num())\n",
    "\n",
    "multi_step_model.compile(optimizer=tf.keras.optimizers.Adam(), loss='mse')\n",
    "\n",
    "history = multi_step_model.fit(train_X, train_y, epochs=EPOCH, batch_size=32 * 8,validation_data=(test_X, test_y),\n",
    "                               verbose=2, shuffle=True, callbacks=callbacks)\n",
    "\n",
    "try:\n",
    "    multi_step_model.load_weights(path_checkpoint)\n",
    "except Exception as error:\n",
    "    print(\"Error trying to load checkpoint.\")\n",
    "    print(error)\n",
    "\n",
    "# plot history\n",
    "pyplot.plot(history.history['loss'], label='train')\n",
    "pyplot.plot(history.history['val_loss'], label='test')\n",
    "pyplot.legend()\n",
    "pyplot.show()\n",
    "pyplot.savefig(\"test.png\")"
   ],
   "metadata": {
    "collapsed": false,
    "pycharm": {
     "name": "#%%\n",
     "is_executing": false
    }
   }
  },
  {
   "cell_type": "code",
   "execution_count": 27,
   "outputs": [
    {
     "name": "stdout",
     "text": [
      "[[-4.85738507e-04]\n",
      " [-4.85738507e-04]\n",
      " [-9.93657159e-04]\n",
      " [-9.63928644e-04]\n",
      " [-1.34572014e-03]\n",
      " [-1.47518096e-03]\n",
      " [-1.58069865e-03]\n",
      " [-1.79090770e-03]\n",
      " [-2.06031115e-03]\n",
      " [-1.74118811e-03]\n",
      " [-1.57778873e-03]\n",
      " [-1.41168130e-03]\n",
      " [-1.28689874e-03]\n",
      " [-1.39186415e-03]\n",
      " [-1.03882095e-03]\n",
      " [-9.99687705e-04]\n",
      " [-1.63619546e-03]\n",
      " [-1.80185935e-03]\n",
      " [-1.43843307e-03]\n",
      " [-6.21350016e-04]\n",
      " [-4.19319142e-04]\n",
      " [-1.56353693e-04]\n",
      " [-2.53828708e-04]\n",
      " [-2.57730833e-04]\n",
      " [-8.05371441e-04]\n",
      " [ 1.42735429e-04]\n",
      " [-6.45006774e-04]\n",
      " [-8.52301717e-04]\n",
      " [-1.47897843e-03]\n",
      " [-2.84853857e-04]\n",
      " [ 5.84702939e-05]\n",
      " [ 2.43639690e-04]\n",
      " [-6.84435945e-05]\n",
      " [ 2.90639931e-03]\n",
      " [ 6.17061136e-03]\n",
      " [ 8.06018338e-03]\n",
      " [ 1.05530117e-02]\n",
      " [ 1.30457506e-02]\n",
      " [ 1.79918241e-02]\n",
      " [ 2.03412715e-02]\n",
      " [ 1.98797993e-02]\n",
      " [ 2.15829611e-02]\n",
      " [ 2.40969770e-02]\n",
      " [ 2.63481252e-02]\n",
      " [ 2.49554552e-02]\n",
      " [ 2.54603121e-02]\n",
      " [ 2.58279108e-02]\n",
      " [ 2.74250992e-02]\n",
      " [ 2.81639416e-02]\n",
      " [ 2.98189092e-02]\n",
      " [ 3.02968286e-02]\n",
      " [ 3.10742948e-02]\n",
      " [ 3.16787586e-02]\n",
      " [ 4.59270068e-02]\n",
      " [ 4.84739281e-02]\n",
      " [ 4.41961437e-02]\n",
      " [ 4.22049277e-02]\n",
      " [ 3.51551026e-02]\n",
      " [ 3.37738357e-02]\n",
      " [ 3.00496258e-02]\n",
      " [ 2.17486192e-02]\n",
      " [ 2.15073377e-02]\n",
      " [ 1.89796165e-02]\n",
      " [ 2.05210485e-02]\n",
      " [ 1.92034785e-02]\n",
      " [ 1.88097861e-02]\n",
      " [ 1.03732776e-02]\n",
      " [ 1.36775468e-02]\n",
      " [ 1.67319365e-02]\n",
      " [ 6.56184647e-03]\n",
      " [ 7.74899847e-04]\n",
      " [ 1.50310807e-04]\n",
      " [-4.85754572e-04]\n",
      " [-2.31228070e-04]\n",
      " [-5.77337109e-04]\n",
      " [-5.65040158e-04]\n",
      " [-1.03522046e-03]\n",
      " [-1.02546462e-03]\n",
      " [-1.15087605e-04]\n",
      " [ 3.32053751e-05]\n",
      " [-1.31483423e-04]\n",
      " [ 8.56178813e-05]\n",
      " [-1.45910075e-04]\n",
      " [-1.97656918e-04]\n",
      " [-7.25332648e-04]\n",
      " [-1.56538142e-03]\n",
      " [-1.69874914e-03]\n",
      " [-1.48736313e-03]\n",
      " [-1.25682913e-03]\n",
      " [-1.24050747e-03]\n",
      " [-1.35227176e-03]\n",
      " [-1.98465097e-03]\n",
      " [-1.70933711e-03]\n",
      " [-1.67903397e-03]\n",
      " [-1.62051362e-03]\n",
      " [-8.85447487e-04]]\n",
      "[-1.36691425e-02 -1.36691425e-02 -2.79624554e-02 -2.71258668e-02\n",
      " -3.78698419e-02 -4.15129923e-02 -4.44823601e-02 -5.03978422e-02\n",
      " -5.79791109e-02 -4.89986859e-02 -4.44004722e-02 -3.97260514e-02\n",
      " -3.62145518e-02 -3.91683780e-02 -2.92334073e-02 -2.81321607e-02\n",
      " -4.60440931e-02 -5.07060322e-02 -4.04788717e-02 -1.74853791e-02\n",
      " -1.18000386e-02 -4.39994131e-03 -7.14298073e-03 -7.25279023e-03\n",
      " -2.26639166e-02  4.01671043e-03 -1.81511027e-02 -2.39845791e-02\n",
      " -4.16198566e-02 -8.01605786e-03  1.64540956e-03  6.85625209e-03\n",
      " -1.92606770e-03  8.17888349e-02  1.73646860e-01  2.26821209e-01\n",
      "  2.96971763e-01  3.67119801e-01  5.06307004e-01  5.72422685e-01\n",
      "  5.59436419e-01  6.07365007e-01  6.78111800e-01  7.41461247e-01\n",
      "  7.02270192e-01  7.16477346e-01  7.26821919e-01  7.71768317e-01\n",
      "  7.92560044e-01  8.39132404e-01  8.52581508e-01  8.74460146e-01\n",
      "  8.91470329e-01  1.29242955e+00  1.36410234e+00  1.24372143e+00\n",
      "  1.18768672e+00  9.89297950e-01  9.50427789e-01  8.45624987e-01\n",
      "  6.12026782e-01  6.05236893e-01  5.34104419e-01  5.77481778e-01\n",
      "  5.40404108e-01  5.29325230e-01  2.91913876e-01  3.84899146e-01\n",
      "  4.70852571e-01  1.84656587e-01  2.18064171e-02  4.22988875e-03\n",
      " -1.36695946e-02 -6.50697733e-03 -1.62468141e-02 -1.59007663e-02\n",
      " -2.91320860e-02 -2.88575475e-02 -3.23867443e-03  9.34430767e-04\n",
      " -3.70006829e-03  2.40936843e-03 -4.10604798e-03 -5.56225326e-03\n",
      " -2.04115490e-02 -4.40513187e-02 -4.78044129e-02 -4.18558100e-02\n",
      " -3.53683644e-02 -3.49090574e-02 -3.80542107e-02 -5.58499617e-02\n",
      " -4.81023685e-02 -4.72496094e-02 -4.56027911e-02 -2.49173326e-02]\n"
     ],
     "output_type": "stream"
    }
   ],
   "source": [
    "from numpy import concatenate\n",
    "from math import sqrt\n",
    "from sklearn.metrics import mean_squared_error\n",
    "\n",
    "# make a prediction\n",
    "yhat = multi_step_model.predict(target_X)[:,:,0]\n",
    "print(yhat)\n",
    "# make a prediction\n",
    "target_X = target_X.reshape((target_X.shape[0], target_X.shape[2]))\n",
    "# invert scaling for forecast\n",
    "inv_yhat = concatenate((yhat, target_X), axis=1)\n",
    "inv_yhat = scaler.inverse_transform(inv_yhat)\n",
    "inv_yhat = inv_yhat[:, 0]\n",
    "print(inv_yhat)\n",
    "# invert scaling for actual\n",
    "# test_y = test_y.reshape((len(test_y), 1))\n",
    "# inv_y = concatenate((test_y, test_X), axis=1)\n",
    "# inv_y = scaler.inverse_transform(inv_y)\n",
    "# inv_y = inv_y[:, 0]\n",
    "# # calculate RMSE\n",
    "# rmse = sqrt(mean_squared_error(inv_y, inv_yhat))\n",
    "# print('Test RMSE: %.6f' % rmse)\n",
    "# print('Test MAE: %.6f' % mean_squared_error(inv_y, inv_yhat))\n",
    "# print('Test nMAE: %.6f' % (mean_squared_error(inv_y, inv_yhat) / 7028))\n",
    "# \n",
    "# pyplot.plot([x for x in range(1000)], inv_y[-1000:], 'b', label='true')\n",
    "# pyplot.plot([x for x in range(1000)], inv_yhat[-1000:], 'r', label='pred')\n",
    "# pyplot.legend(loc='upper left')\n",
    "# pyplot.savefig(\"out.png\")"
   ],
   "metadata": {
    "collapsed": false,
    "pycharm": {
     "name": "#%%\n",
     "is_executing": false
    }
   }
  }
 ],
 "metadata": {
  "kernelspec": {
   "display_name": "Python 3",
   "language": "python",
   "name": "python3"
  },
  "language_info": {
   "codemirror_mode": {
    "name": "ipython",
    "version": 2
   },
   "file_extension": ".py",
   "mimetype": "text/x-python",
   "name": "python",
   "nbconvert_exporter": "python",
   "pygments_lexer": "ipython2",
   "version": "2.7.6"
  },
  "pycharm": {
   "stem_cell": {
    "cell_type": "raw",
    "source": [],
    "metadata": {
     "collapsed": false
    }
   }
  }
 },
 "nbformat": 4,
 "nbformat_minor": 0
}